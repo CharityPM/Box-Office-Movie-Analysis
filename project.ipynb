{
 "cells": [
  {
   "cell_type": "markdown",
   "id": "c4cf66f2",
   "metadata": {},
   "source": [
    "## Project Title: Exploratory Data Analysis for a New Movie Studio Venture\n",
    "\n",
    "### Business Problem\n",
    "\n",
    "Our client is exploring an entry into the movie production industry but lacks insider knowledge about what drives box office success. Box office refers explicitly to theatre ticket sales. To make informed decisions, we need to identify the key characteristics of financially successful films.\n",
    "\n",
    "### Project Goal\n",
    "\n",
    "This analysis aims to explore historical box office data alongside movie attributes such as genre, ratings, and release trends to uncover patterns associated with higher revenue. Based on our findings, we will present three actionable business recommendations to guide the client’s movie production strategy.\n",
    "\n",
    "### Objectives:  \n",
    "We are looking to answer the following research questions:\n",
    "1. Genre trends: Which genres are most profitable?\n",
    "2. Runtime, Ratings, and Revenue: Is there a correlation between rating or length and revenue?\n",
    "3. Release Seasons(q1,q2,q3,q4): Which months do movies do best? \n",
    "4. Do movies with different content ratings have significantly different average ROI?  \n",
    "\n",
    "### Datasets Used\n",
    "\n",
    "We use three main datasets:\n",
    "\n",
    "- Box Office Mojo (bom.movie_gross.csv.gz): Contains domestic gross revenue, production studio, release year, and movie titles.\n",
    "\n",
    "- IMDB Dataset (im.db SQLite file): Includes detailed movie metadata from movie_basics (title, genre, runtime) and movie_ratings (average rating, number of votes).\n",
    "\n",
    "- TN Movie Budgets Dataset (tn.movie_budgets.csv): Contains data on movie budgets, domestic and worldwide gross, and release dates.\n",
    "\n",
    "These datasets will be cleaned and merged to create a unified dataset for analysis."
   ]
  },
  {
   "cell_type": "markdown",
   "id": "34f947fb",
   "metadata": {},
   "source": [
    "### 1.1 Importing necessary libraries"
   ]
  },
  {
   "cell_type": "code",
   "execution_count": 82,
   "id": "b24f20c6",
   "metadata": {},
   "outputs": [],
   "source": [
    "import pandas as pd\n",
    "import sqlite3\n",
    "import seaborn as sns\n",
    "import matplotlib.pyplot as plt\n",
    "import numpy as np\n",
    "from scipy import stats"
   ]
  },
  {
   "cell_type": "markdown",
   "id": "0c0b7d34",
   "metadata": {},
   "source": [
    "### 1.2 Loading datasets"
   ]
  },
  {
   "cell_type": "code",
   "execution_count": 83,
   "id": "baf69c8f",
   "metadata": {},
   "outputs": [],
   "source": [
    "# Loading BOM dataset\n",
    "bom_df = pd.read_csv('bom.movie_gross.csv')\n",
    "\n",
    "# Loading IMBD dataset\n",
    "conn = sqlite3.connect('im.db')\n",
    "\n",
    "# Loading TN dataset\n",
    "tn_df = pd.read_csv('tn.movie_budgets.csv')"
   ]
  },
  {
   "cell_type": "markdown",
   "id": "c7fc9b98",
   "metadata": {},
   "source": [
    "### 1.3 Exploratory Data Analysis\n"
   ]
  },
  {
   "cell_type": "code",
   "execution_count": 84,
   "id": "f11f7195",
   "metadata": {},
   "outputs": [
    {
     "name": "stdout",
     "output_type": "stream",
     "text": [
      "<class 'pandas.core.frame.DataFrame'>\n",
      "RangeIndex: 3387 entries, 0 to 3386\n",
      "Data columns (total 5 columns):\n",
      " #   Column          Non-Null Count  Dtype  \n",
      "---  ------          --------------  -----  \n",
      " 0   title           3387 non-null   object \n",
      " 1   studio          3382 non-null   object \n",
      " 2   domestic_gross  3359 non-null   float64\n",
      " 3   foreign_gross   2037 non-null   object \n",
      " 4   year            3387 non-null   int64  \n",
      "dtypes: float64(1), int64(1), object(3)\n",
      "memory usage: 132.4+ KB\n"
     ]
    }
   ],
   "source": [
    "# BOM dataset\n",
    "bom_df.info()"
   ]
  },
  {
   "cell_type": "code",
   "execution_count": 85,
   "id": "76cf9f93",
   "metadata": {},
   "outputs": [
    {
     "data": {
      "application/vnd.microsoft.datawrangler.viewer.v0+json": {
       "columns": [
        {
         "name": "index",
         "rawType": "int64",
         "type": "integer"
        },
        {
         "name": "title",
         "rawType": "object",
         "type": "string"
        },
        {
         "name": "studio",
         "rawType": "object",
         "type": "string"
        },
        {
         "name": "domestic_gross",
         "rawType": "float64",
         "type": "float"
        },
        {
         "name": "foreign_gross",
         "rawType": "object",
         "type": "string"
        },
        {
         "name": "year",
         "rawType": "int64",
         "type": "integer"
        }
       ],
       "ref": "cc9d4f8d-a684-475f-abc2-80f9f851bb98",
       "rows": [
        [
         "0",
         "Toy Story 3",
         "BV",
         "415000000.0",
         "652000000",
         "2010"
        ],
        [
         "1",
         "Alice in Wonderland (2010)",
         "BV",
         "334200000.0",
         "691300000",
         "2010"
        ],
        [
         "2",
         "Harry Potter and the Deathly Hallows Part 1",
         "WB",
         "296000000.0",
         "664300000",
         "2010"
        ],
        [
         "3",
         "Inception",
         "WB",
         "292600000.0",
         "535700000",
         "2010"
        ],
        [
         "4",
         "Shrek Forever After",
         "P/DW",
         "238700000.0",
         "513900000",
         "2010"
        ]
       ],
       "shape": {
        "columns": 5,
        "rows": 5
       }
      },
      "text/html": [
       "<div>\n",
       "<style scoped>\n",
       "    .dataframe tbody tr th:only-of-type {\n",
       "        vertical-align: middle;\n",
       "    }\n",
       "\n",
       "    .dataframe tbody tr th {\n",
       "        vertical-align: top;\n",
       "    }\n",
       "\n",
       "    .dataframe thead th {\n",
       "        text-align: right;\n",
       "    }\n",
       "</style>\n",
       "<table border=\"1\" class=\"dataframe\">\n",
       "  <thead>\n",
       "    <tr style=\"text-align: right;\">\n",
       "      <th></th>\n",
       "      <th>title</th>\n",
       "      <th>studio</th>\n",
       "      <th>domestic_gross</th>\n",
       "      <th>foreign_gross</th>\n",
       "      <th>year</th>\n",
       "    </tr>\n",
       "  </thead>\n",
       "  <tbody>\n",
       "    <tr>\n",
       "      <th>0</th>\n",
       "      <td>Toy Story 3</td>\n",
       "      <td>BV</td>\n",
       "      <td>415000000.0</td>\n",
       "      <td>652000000</td>\n",
       "      <td>2010</td>\n",
       "    </tr>\n",
       "    <tr>\n",
       "      <th>1</th>\n",
       "      <td>Alice in Wonderland (2010)</td>\n",
       "      <td>BV</td>\n",
       "      <td>334200000.0</td>\n",
       "      <td>691300000</td>\n",
       "      <td>2010</td>\n",
       "    </tr>\n",
       "    <tr>\n",
       "      <th>2</th>\n",
       "      <td>Harry Potter and the Deathly Hallows Part 1</td>\n",
       "      <td>WB</td>\n",
       "      <td>296000000.0</td>\n",
       "      <td>664300000</td>\n",
       "      <td>2010</td>\n",
       "    </tr>\n",
       "    <tr>\n",
       "      <th>3</th>\n",
       "      <td>Inception</td>\n",
       "      <td>WB</td>\n",
       "      <td>292600000.0</td>\n",
       "      <td>535700000</td>\n",
       "      <td>2010</td>\n",
       "    </tr>\n",
       "    <tr>\n",
       "      <th>4</th>\n",
       "      <td>Shrek Forever After</td>\n",
       "      <td>P/DW</td>\n",
       "      <td>238700000.0</td>\n",
       "      <td>513900000</td>\n",
       "      <td>2010</td>\n",
       "    </tr>\n",
       "  </tbody>\n",
       "</table>\n",
       "</div>"
      ],
      "text/plain": [
       "                                         title studio  domestic_gross  \\\n",
       "0                                  Toy Story 3     BV     415000000.0   \n",
       "1                   Alice in Wonderland (2010)     BV     334200000.0   \n",
       "2  Harry Potter and the Deathly Hallows Part 1     WB     296000000.0   \n",
       "3                                    Inception     WB     292600000.0   \n",
       "4                          Shrek Forever After   P/DW     238700000.0   \n",
       "\n",
       "  foreign_gross  year  \n",
       "0     652000000  2010  \n",
       "1     691300000  2010  \n",
       "2     664300000  2010  \n",
       "3     535700000  2010  \n",
       "4     513900000  2010  "
      ]
     },
     "execution_count": 85,
     "metadata": {},
     "output_type": "execute_result"
    }
   ],
   "source": [
    "bom_df.head()"
   ]
  },
  {
   "cell_type": "code",
   "execution_count": 86,
   "id": "e568d837",
   "metadata": {},
   "outputs": [
    {
     "name": "stdout",
     "output_type": "stream",
     "text": [
      "            name\n",
      "0   movie_basics\n",
      "1      directors\n",
      "2      known_for\n",
      "3     movie_akas\n",
      "4  movie_ratings\n",
      "5        persons\n",
      "6     principals\n",
      "7        writers\n"
     ]
    }
   ],
   "source": [
    "#view all tables in IMDB database\n",
    "query = \"SELECT name FROM sqlite_master WHERE type='table';\"\n",
    "tables = pd.read_sql(query, conn)\n",
    "print(tables)"
   ]
  },
  {
   "cell_type": "code",
   "execution_count": 87,
   "id": "5a3aef22",
   "metadata": {},
   "outputs": [
    {
     "data": {
      "application/vnd.microsoft.datawrangler.viewer.v0+json": {
       "columns": [
        {
         "name": "index",
         "rawType": "int64",
         "type": "integer"
        },
        {
         "name": "movie_id",
         "rawType": "object",
         "type": "string"
        },
        {
         "name": "primary_title",
         "rawType": "object",
         "type": "string"
        },
        {
         "name": "original_title",
         "rawType": "object",
         "type": "unknown"
        },
        {
         "name": "start_year",
         "rawType": "int64",
         "type": "integer"
        },
        {
         "name": "runtime_minutes",
         "rawType": "float64",
         "type": "float"
        },
        {
         "name": "genres",
         "rawType": "object",
         "type": "unknown"
        }
       ],
       "ref": "d5695bb4-5aba-4584-9cf0-def1b1e83c02",
       "rows": [
        [
         "0",
         "tt0063540",
         "Sunghursh",
         "Sunghursh",
         "2013",
         "175.0",
         "Action,Crime,Drama"
        ],
        [
         "1",
         "tt0066787",
         "One Day Before the Rainy Season",
         "Ashad Ka Ek Din",
         "2019",
         "114.0",
         "Biography,Drama"
        ],
        [
         "2",
         "tt0069049",
         "The Other Side of the Wind",
         "The Other Side of the Wind",
         "2018",
         "122.0",
         "Drama"
        ],
        [
         "3",
         "tt0069204",
         "Sabse Bada Sukh",
         "Sabse Bada Sukh",
         "2018",
         null,
         "Comedy,Drama"
        ],
        [
         "4",
         "tt0100275",
         "The Wandering Soap Opera",
         "La Telenovela Errante",
         "2017",
         "80.0",
         "Comedy,Drama,Fantasy"
        ],
        [
         "5",
         "tt0111414",
         "A Thin Life",
         "A Thin Life",
         "2018",
         "75.0",
         "Comedy"
        ],
        [
         "6",
         "tt0112502",
         "Bigfoot",
         "Bigfoot",
         "2017",
         null,
         "Horror,Thriller"
        ],
        [
         "7",
         "tt0137204",
         "Joe Finds Grace",
         "Joe Finds Grace",
         "2017",
         "83.0",
         "Adventure,Animation,Comedy"
        ],
        [
         "8",
         "tt0139613",
         "O Silêncio",
         "O Silêncio",
         "2012",
         null,
         "Documentary,History"
        ],
        [
         "9",
         "tt0144449",
         "Nema aviona za Zagreb",
         "Nema aviona za Zagreb",
         "2012",
         "82.0",
         "Biography"
        ],
        [
         "10",
         "tt0146592",
         "Pál Adrienn",
         "Pál Adrienn",
         "2010",
         "136.0",
         "Drama"
        ],
        [
         "11",
         "tt0154039",
         "So Much for Justice!",
         "Oda az igazság",
         "2010",
         "100.0",
         "History"
        ],
        [
         "12",
         "tt0159369",
         "Cooper and Hemingway: The True Gen",
         "Cooper and Hemingway: The True Gen",
         "2013",
         "180.0",
         "Documentary"
        ],
        [
         "13",
         "tt0162942",
         "Children of the Green Dragon",
         "A zöld sárkány gyermekei",
         "2010",
         "89.0",
         "Drama"
        ],
        [
         "14",
         "tt0170651",
         "T.G.M. - osvoboditel",
         "T.G.M. - osvoboditel",
         "2018",
         "60.0",
         "Documentary"
        ],
        [
         "15",
         "tt0176694",
         "The Tragedy of Man",
         "Az ember tragédiája",
         "2011",
         "160.0",
         "Animation,Drama,History"
        ],
        [
         "16",
         "tt0187902",
         "How Huang Fei-hong Rescued the Orphan from the Tiger's Den",
         "How Huang Fei-hong Rescued the Orphan from the Tiger's Den",
         "2011",
         null,
         null
        ],
        [
         "17",
         "tt0192528",
         "Heaven & Hell",
         "Reverse Heaven",
         "2018",
         "104.0",
         "Drama"
        ],
        [
         "18",
         "tt0230212",
         "The Final Journey",
         "The Final Journey",
         "2010",
         "120.0",
         "Drama"
        ],
        [
         "19",
         "tt0247643",
         "Los pájaros se van con la muerte",
         "Los pájaros se van con la muerte",
         "2011",
         "110.0",
         "Drama,Mystery"
        ],
        [
         "20",
         "tt0249516",
         "Foodfight!",
         "Foodfight!",
         "2012",
         "91.0",
         "Action,Animation,Comedy"
        ],
        [
         "21",
         "tt0250404",
         "Godfather",
         "Godfather",
         "2012",
         null,
         "Crime,Drama"
        ],
        [
         "22",
         "tt0253093",
         "Gangavataran",
         "Gangavataran",
         "2018",
         "134.0",
         null
        ],
        [
         "23",
         "tt0255820",
         "Return to Babylon",
         "Return to Babylon",
         "2013",
         "75.0",
         "Biography,Comedy,Drama"
        ],
        [
         "24",
         "tt0262218",
         "Akakis mogzauroba",
         "Akakis mogzauroba",
         "2012",
         "44.0",
         "Documentary"
        ],
        [
         "25",
         "tt0262759",
         "Seven Jews from My Class",
         "Siedmiu Zydów z mojej klasy",
         "2018",
         "40.0",
         "Documentary"
        ],
        [
         "26",
         "tt0263814",
         "On kadin",
         "On kadin",
         "2019",
         null,
         "Drama"
        ],
        [
         "27",
         "tt0276568",
         "To Chase a Million",
         "To Chase a Million",
         "2018",
         "97.0",
         "Action,Drama"
        ],
        [
         "28",
         "tt0277964",
         "Prague: The Restless Heart of Europe",
         "Praha - neklidné srdce Evropy",
         "2018",
         "59.0",
         "Documentary,History"
        ],
        [
         "29",
         "tt0283440",
         "Short Time Heroes",
         "Kurzzeithelden",
         "2015",
         "45.0",
         "Sci-Fi"
        ],
        [
         "30",
         "tt0285252",
         "Life's a Beach",
         "Life's a Beach",
         "2012",
         "100.0",
         "Comedy"
        ],
        [
         "31",
         "tt0285423",
         "Abolição",
         "Abolição",
         "2019",
         null,
         "Documentary"
        ],
        [
         "32",
         "tt0293069",
         "Dark Blood",
         "Dark Blood",
         "2012",
         "86.0",
         "Thriller"
        ],
        [
         "33",
         "tt0293429",
         "Mortal Kombat",
         "Mortal Kombat",
         "2021",
         null,
         "Action,Adventure,Fantasy"
        ],
        [
         "34",
         "tt0297400",
         "Snowblind",
         "Snowblind",
         "2015",
         null,
         "Crime,Drama"
        ],
        [
         "35",
         "tt0306058",
         "Second Coming",
         "Second Coming",
         "2012",
         "95.0",
         null
        ],
        [
         "36",
         "tt0311448",
         "Lives No Longer Ours",
         "Lives No Longer Ours",
         "2011",
         "90.0",
         "Drama,Romance"
        ],
        [
         "37",
         "tt0312305",
         "Quantum Quest: A Cassini Space Odyssey",
         "Quantum Quest: A Cassini Space Odyssey",
         "2010",
         "45.0",
         "Adventure,Animation,Sci-Fi"
        ],
        [
         "38",
         "tt0315642",
         "Wazir",
         "Wazir",
         "2016",
         "103.0",
         "Action,Crime,Drama"
        ],
        [
         "39",
         "tt0323808",
         "The Wicker Tree",
         "The Wicker Tree",
         "2011",
         "96.0",
         "Drama,Horror"
        ],
        [
         "40",
         "tt0326592",
         "The Overnight",
         "The Overnight",
         "2010",
         "88.0",
         null
        ],
        [
         "41",
         "tt0326965",
         "In My Sleep",
         "In My Sleep",
         "2010",
         "104.0",
         "Drama,Mystery,Thriller"
        ],
        [
         "42",
         "tt0328810",
         "My Land",
         "Aamaar Bhuvan",
         "2018",
         "102.0",
         "Drama,Family"
        ],
        [
         "43",
         "tt0329539",
         "Rice Girl",
         "Rice Girl",
         "2014",
         "95.0",
         "Adventure,Comedy,Romance"
        ],
        [
         "44",
         "tt0330811",
         "Regret Not Speaking",
         "Regret Not Speaking",
         "2011",
         null,
         null
        ],
        [
         "45",
         "tt0330987",
         "Tiden är en dröm, del 2",
         "Tiden är en dröm, del 2",
         "2014",
         "109.0",
         null
        ],
        [
         "46",
         "tt0331312",
         "This Wretched Life",
         "This Wretched Life",
         "2010",
         "99.0",
         "Comedy,Drama"
        ],
        [
         "47",
         "tt0331314",
         "Bunyan and Babe",
         "Bunyan and Babe",
         "2017",
         "84.0",
         "Adventure,Animation,Comedy"
        ],
        [
         "48",
         "tt0337692",
         "On the Road",
         "On the Road",
         "2012",
         "124.0",
         "Adventure,Drama,Romance"
        ],
        [
         "49",
         "tt0337882",
         "Blind Sided",
         "Blind Sided",
         "2010",
         null,
         "Comedy,Crime,Drama"
        ]
       ],
       "shape": {
        "columns": 6,
        "rows": 146144
       }
      },
      "text/html": [
       "<div>\n",
       "<style scoped>\n",
       "    .dataframe tbody tr th:only-of-type {\n",
       "        vertical-align: middle;\n",
       "    }\n",
       "\n",
       "    .dataframe tbody tr th {\n",
       "        vertical-align: top;\n",
       "    }\n",
       "\n",
       "    .dataframe thead th {\n",
       "        text-align: right;\n",
       "    }\n",
       "</style>\n",
       "<table border=\"1\" class=\"dataframe\">\n",
       "  <thead>\n",
       "    <tr style=\"text-align: right;\">\n",
       "      <th></th>\n",
       "      <th>movie_id</th>\n",
       "      <th>primary_title</th>\n",
       "      <th>original_title</th>\n",
       "      <th>start_year</th>\n",
       "      <th>runtime_minutes</th>\n",
       "      <th>genres</th>\n",
       "    </tr>\n",
       "  </thead>\n",
       "  <tbody>\n",
       "    <tr>\n",
       "      <th>0</th>\n",
       "      <td>tt0063540</td>\n",
       "      <td>Sunghursh</td>\n",
       "      <td>Sunghursh</td>\n",
       "      <td>2013</td>\n",
       "      <td>175.0</td>\n",
       "      <td>Action,Crime,Drama</td>\n",
       "    </tr>\n",
       "    <tr>\n",
       "      <th>1</th>\n",
       "      <td>tt0066787</td>\n",
       "      <td>One Day Before the Rainy Season</td>\n",
       "      <td>Ashad Ka Ek Din</td>\n",
       "      <td>2019</td>\n",
       "      <td>114.0</td>\n",
       "      <td>Biography,Drama</td>\n",
       "    </tr>\n",
       "    <tr>\n",
       "      <th>2</th>\n",
       "      <td>tt0069049</td>\n",
       "      <td>The Other Side of the Wind</td>\n",
       "      <td>The Other Side of the Wind</td>\n",
       "      <td>2018</td>\n",
       "      <td>122.0</td>\n",
       "      <td>Drama</td>\n",
       "    </tr>\n",
       "    <tr>\n",
       "      <th>3</th>\n",
       "      <td>tt0069204</td>\n",
       "      <td>Sabse Bada Sukh</td>\n",
       "      <td>Sabse Bada Sukh</td>\n",
       "      <td>2018</td>\n",
       "      <td>NaN</td>\n",
       "      <td>Comedy,Drama</td>\n",
       "    </tr>\n",
       "    <tr>\n",
       "      <th>4</th>\n",
       "      <td>tt0100275</td>\n",
       "      <td>The Wandering Soap Opera</td>\n",
       "      <td>La Telenovela Errante</td>\n",
       "      <td>2017</td>\n",
       "      <td>80.0</td>\n",
       "      <td>Comedy,Drama,Fantasy</td>\n",
       "    </tr>\n",
       "    <tr>\n",
       "      <th>...</th>\n",
       "      <td>...</td>\n",
       "      <td>...</td>\n",
       "      <td>...</td>\n",
       "      <td>...</td>\n",
       "      <td>...</td>\n",
       "      <td>...</td>\n",
       "    </tr>\n",
       "    <tr>\n",
       "      <th>146139</th>\n",
       "      <td>tt9916538</td>\n",
       "      <td>Kuambil Lagi Hatiku</td>\n",
       "      <td>Kuambil Lagi Hatiku</td>\n",
       "      <td>2019</td>\n",
       "      <td>123.0</td>\n",
       "      <td>Drama</td>\n",
       "    </tr>\n",
       "    <tr>\n",
       "      <th>146140</th>\n",
       "      <td>tt9916622</td>\n",
       "      <td>Rodolpho Teóphilo - O Legado de um Pioneiro</td>\n",
       "      <td>Rodolpho Teóphilo - O Legado de um Pioneiro</td>\n",
       "      <td>2015</td>\n",
       "      <td>NaN</td>\n",
       "      <td>Documentary</td>\n",
       "    </tr>\n",
       "    <tr>\n",
       "      <th>146141</th>\n",
       "      <td>tt9916706</td>\n",
       "      <td>Dankyavar Danka</td>\n",
       "      <td>Dankyavar Danka</td>\n",
       "      <td>2013</td>\n",
       "      <td>NaN</td>\n",
       "      <td>Comedy</td>\n",
       "    </tr>\n",
       "    <tr>\n",
       "      <th>146142</th>\n",
       "      <td>tt9916730</td>\n",
       "      <td>6 Gunn</td>\n",
       "      <td>6 Gunn</td>\n",
       "      <td>2017</td>\n",
       "      <td>116.0</td>\n",
       "      <td>None</td>\n",
       "    </tr>\n",
       "    <tr>\n",
       "      <th>146143</th>\n",
       "      <td>tt9916754</td>\n",
       "      <td>Chico Albuquerque - Revelações</td>\n",
       "      <td>Chico Albuquerque - Revelações</td>\n",
       "      <td>2013</td>\n",
       "      <td>NaN</td>\n",
       "      <td>Documentary</td>\n",
       "    </tr>\n",
       "  </tbody>\n",
       "</table>\n",
       "<p>146144 rows × 6 columns</p>\n",
       "</div>"
      ],
      "text/plain": [
       "         movie_id                                primary_title  \\\n",
       "0       tt0063540                                    Sunghursh   \n",
       "1       tt0066787              One Day Before the Rainy Season   \n",
       "2       tt0069049                   The Other Side of the Wind   \n",
       "3       tt0069204                              Sabse Bada Sukh   \n",
       "4       tt0100275                     The Wandering Soap Opera   \n",
       "...           ...                                          ...   \n",
       "146139  tt9916538                          Kuambil Lagi Hatiku   \n",
       "146140  tt9916622  Rodolpho Teóphilo - O Legado de um Pioneiro   \n",
       "146141  tt9916706                              Dankyavar Danka   \n",
       "146142  tt9916730                                       6 Gunn   \n",
       "146143  tt9916754               Chico Albuquerque - Revelações   \n",
       "\n",
       "                                     original_title  start_year  \\\n",
       "0                                         Sunghursh        2013   \n",
       "1                                   Ashad Ka Ek Din        2019   \n",
       "2                        The Other Side of the Wind        2018   \n",
       "3                                   Sabse Bada Sukh        2018   \n",
       "4                             La Telenovela Errante        2017   \n",
       "...                                             ...         ...   \n",
       "146139                          Kuambil Lagi Hatiku        2019   \n",
       "146140  Rodolpho Teóphilo - O Legado de um Pioneiro        2015   \n",
       "146141                              Dankyavar Danka        2013   \n",
       "146142                                       6 Gunn        2017   \n",
       "146143               Chico Albuquerque - Revelações        2013   \n",
       "\n",
       "        runtime_minutes                genres  \n",
       "0                 175.0    Action,Crime,Drama  \n",
       "1                 114.0       Biography,Drama  \n",
       "2                 122.0                 Drama  \n",
       "3                   NaN          Comedy,Drama  \n",
       "4                  80.0  Comedy,Drama,Fantasy  \n",
       "...                 ...                   ...  \n",
       "146139            123.0                 Drama  \n",
       "146140              NaN           Documentary  \n",
       "146141              NaN                Comedy  \n",
       "146142            116.0                  None  \n",
       "146143              NaN           Documentary  \n",
       "\n",
       "[146144 rows x 6 columns]"
      ]
     },
     "execution_count": 87,
     "metadata": {},
     "output_type": "execute_result"
    }
   ],
   "source": [
    "# IMDB Movie basics dataset\n",
    "basics_df = pd.read_sql(\"\"\" \n",
    "    SELECT * FROM movie_basics\n",
    "\"\"\", conn)\n",
    "basics_df"
   ]
  },
  {
   "cell_type": "code",
   "execution_count": 88,
   "id": "29b5aa33",
   "metadata": {},
   "outputs": [
    {
     "name": "stdout",
     "output_type": "stream",
     "text": [
      "<class 'pandas.core.frame.DataFrame'>\n",
      "RangeIndex: 146144 entries, 0 to 146143\n",
      "Data columns (total 6 columns):\n",
      " #   Column           Non-Null Count   Dtype  \n",
      "---  ------           --------------   -----  \n",
      " 0   movie_id         146144 non-null  object \n",
      " 1   primary_title    146144 non-null  object \n",
      " 2   original_title   146123 non-null  object \n",
      " 3   start_year       146144 non-null  int64  \n",
      " 4   runtime_minutes  114405 non-null  float64\n",
      " 5   genres           140736 non-null  object \n",
      "dtypes: float64(1), int64(1), object(4)\n",
      "memory usage: 6.7+ MB\n"
     ]
    }
   ],
   "source": [
    "#get data type of basics_df and non-null count\n",
    "basics_df.info()"
   ]
  },
  {
   "cell_type": "code",
   "execution_count": 89,
   "id": "61938fab",
   "metadata": {},
   "outputs": [
    {
     "data": {
      "application/vnd.microsoft.datawrangler.viewer.v0+json": {
       "columns": [
        {
         "name": "index",
         "rawType": "int64",
         "type": "integer"
        },
        {
         "name": "movie_id",
         "rawType": "object",
         "type": "string"
        },
        {
         "name": "averagerating",
         "rawType": "float64",
         "type": "float"
        },
        {
         "name": "numvotes",
         "rawType": "int64",
         "type": "integer"
        }
       ],
       "ref": "d2c24350-8903-44fb-88ed-b553ba9a6a95",
       "rows": [
        [
         "0",
         "tt10356526",
         "8.3",
         "31"
        ],
        [
         "1",
         "tt10384606",
         "8.9",
         "559"
        ],
        [
         "2",
         "tt1042974",
         "6.4",
         "20"
        ],
        [
         "3",
         "tt1043726",
         "4.2",
         "50352"
        ],
        [
         "4",
         "tt1060240",
         "6.5",
         "21"
        ],
        [
         "5",
         "tt1069246",
         "6.2",
         "326"
        ],
        [
         "6",
         "tt1094666",
         "7.0",
         "1613"
        ],
        [
         "7",
         "tt1130982",
         "6.4",
         "571"
        ],
        [
         "8",
         "tt1156528",
         "7.2",
         "265"
        ],
        [
         "9",
         "tt1161457",
         "4.2",
         "148"
        ],
        [
         "10",
         "tt1171222",
         "5.1",
         "8296"
        ],
        [
         "11",
         "tt1174693",
         "5.8",
         "2381"
        ],
        [
         "12",
         "tt1181840",
         "7.0",
         "5494"
        ],
        [
         "13",
         "tt1193623",
         "8.0",
         "5"
        ],
        [
         "14",
         "tt1199588",
         "5.5",
         "74"
        ],
        [
         "15",
         "tt1204784",
         "5.8",
         "6"
        ],
        [
         "16",
         "tt1210166",
         "7.6",
         "326657"
        ],
        [
         "17",
         "tt1212419",
         "6.5",
         "87288"
        ],
        [
         "18",
         "tt1220911",
         "5.0",
         "941"
        ],
        [
         "19",
         "tt1229238",
         "7.4",
         "428142"
        ],
        [
         "20",
         "tt1232829",
         "7.2",
         "477771"
        ],
        [
         "21",
         "tt1235548",
         "6.6",
         "2725"
        ],
        [
         "22",
         "tt1243974",
         "5.4",
         "54646"
        ],
        [
         "23",
         "tt1250861",
         "6.2",
         "416"
        ],
        [
         "24",
         "tt1258812",
         "4.0",
         "21"
        ],
        [
         "25",
         "tt1261945",
         "4.4",
         "69199"
        ],
        [
         "26",
         "tt1266037",
         "7.0",
         "1413"
        ],
        [
         "27",
         "tt1270291",
         "5.8",
         "5728"
        ],
        [
         "28",
         "tt1270761",
         "5.6",
         "44490"
        ],
        [
         "29",
         "tt1272886",
         "6.1",
         "6688"
        ],
        [
         "30",
         "tt1274297",
         "5.4",
         "381"
        ],
        [
         "31",
         "tt1283887",
         "5.4",
         "2527"
        ],
        [
         "32",
         "tt1285219",
         "3.4",
         "387"
        ],
        [
         "33",
         "tt1287879",
         "7.7",
         "76"
        ],
        [
         "34",
         "tt1290476",
         "7.2",
         "6"
        ],
        [
         "35",
         "tt1294141",
         "4.5",
         "113"
        ],
        [
         "36",
         "tt1320239",
         "6.2",
         "18431"
        ],
        [
         "37",
         "tt1322312",
         "6.3",
         "54421"
        ],
        [
         "38",
         "tt1323962",
         "5.1",
         "101"
        ],
        [
         "39",
         "tt1325014",
         "6.7",
         "4240"
        ],
        [
         "40",
         "tt1325019",
         "7.2",
         "29"
        ],
        [
         "41",
         "tt1326743",
         "8.4",
         "21"
        ],
        [
         "42",
         "tt1327602",
         "7.8",
         "8"
        ],
        [
         "43",
         "tt1328913",
         "5.2",
         "738"
        ],
        [
         "44",
         "tt1331329",
         "3.6",
         "1621"
        ],
        [
         "45",
         "tt1332570",
         "2.1",
         "17"
        ],
        [
         "46",
         "tt1343110",
         "2.5",
         "345"
        ],
        [
         "47",
         "tt1343740",
         "4.6",
         "495"
        ],
        [
         "48",
         "tt1346690",
         "7.7",
         "7"
        ],
        [
         "49",
         "tt1352393",
         "7.7",
         "1293"
        ]
       ],
       "shape": {
        "columns": 3,
        "rows": 73856
       }
      },
      "text/html": [
       "<div>\n",
       "<style scoped>\n",
       "    .dataframe tbody tr th:only-of-type {\n",
       "        vertical-align: middle;\n",
       "    }\n",
       "\n",
       "    .dataframe tbody tr th {\n",
       "        vertical-align: top;\n",
       "    }\n",
       "\n",
       "    .dataframe thead th {\n",
       "        text-align: right;\n",
       "    }\n",
       "</style>\n",
       "<table border=\"1\" class=\"dataframe\">\n",
       "  <thead>\n",
       "    <tr style=\"text-align: right;\">\n",
       "      <th></th>\n",
       "      <th>movie_id</th>\n",
       "      <th>averagerating</th>\n",
       "      <th>numvotes</th>\n",
       "    </tr>\n",
       "  </thead>\n",
       "  <tbody>\n",
       "    <tr>\n",
       "      <th>0</th>\n",
       "      <td>tt10356526</td>\n",
       "      <td>8.3</td>\n",
       "      <td>31</td>\n",
       "    </tr>\n",
       "    <tr>\n",
       "      <th>1</th>\n",
       "      <td>tt10384606</td>\n",
       "      <td>8.9</td>\n",
       "      <td>559</td>\n",
       "    </tr>\n",
       "    <tr>\n",
       "      <th>2</th>\n",
       "      <td>tt1042974</td>\n",
       "      <td>6.4</td>\n",
       "      <td>20</td>\n",
       "    </tr>\n",
       "    <tr>\n",
       "      <th>3</th>\n",
       "      <td>tt1043726</td>\n",
       "      <td>4.2</td>\n",
       "      <td>50352</td>\n",
       "    </tr>\n",
       "    <tr>\n",
       "      <th>4</th>\n",
       "      <td>tt1060240</td>\n",
       "      <td>6.5</td>\n",
       "      <td>21</td>\n",
       "    </tr>\n",
       "    <tr>\n",
       "      <th>...</th>\n",
       "      <td>...</td>\n",
       "      <td>...</td>\n",
       "      <td>...</td>\n",
       "    </tr>\n",
       "    <tr>\n",
       "      <th>73851</th>\n",
       "      <td>tt9805820</td>\n",
       "      <td>8.1</td>\n",
       "      <td>25</td>\n",
       "    </tr>\n",
       "    <tr>\n",
       "      <th>73852</th>\n",
       "      <td>tt9844256</td>\n",
       "      <td>7.5</td>\n",
       "      <td>24</td>\n",
       "    </tr>\n",
       "    <tr>\n",
       "      <th>73853</th>\n",
       "      <td>tt9851050</td>\n",
       "      <td>4.7</td>\n",
       "      <td>14</td>\n",
       "    </tr>\n",
       "    <tr>\n",
       "      <th>73854</th>\n",
       "      <td>tt9886934</td>\n",
       "      <td>7.0</td>\n",
       "      <td>5</td>\n",
       "    </tr>\n",
       "    <tr>\n",
       "      <th>73855</th>\n",
       "      <td>tt9894098</td>\n",
       "      <td>6.3</td>\n",
       "      <td>128</td>\n",
       "    </tr>\n",
       "  </tbody>\n",
       "</table>\n",
       "<p>73856 rows × 3 columns</p>\n",
       "</div>"
      ],
      "text/plain": [
       "         movie_id  averagerating  numvotes\n",
       "0      tt10356526            8.3        31\n",
       "1      tt10384606            8.9       559\n",
       "2       tt1042974            6.4        20\n",
       "3       tt1043726            4.2     50352\n",
       "4       tt1060240            6.5        21\n",
       "...           ...            ...       ...\n",
       "73851   tt9805820            8.1        25\n",
       "73852   tt9844256            7.5        24\n",
       "73853   tt9851050            4.7        14\n",
       "73854   tt9886934            7.0         5\n",
       "73855   tt9894098            6.3       128\n",
       "\n",
       "[73856 rows x 3 columns]"
      ]
     },
     "execution_count": 89,
     "metadata": {},
     "output_type": "execute_result"
    }
   ],
   "source": [
    "# IMDB movie ratings dataset\n",
    "ratings_df = pd.read_sql(\"\"\"\n",
    "    SELECT * FROM movie_ratings\n",
    "\"\"\", conn)\n",
    "ratings_df"
   ]
  },
  {
   "cell_type": "code",
   "execution_count": 90,
   "id": "8a517e21",
   "metadata": {},
   "outputs": [
    {
     "name": "stdout",
     "output_type": "stream",
     "text": [
      "<class 'pandas.core.frame.DataFrame'>\n",
      "RangeIndex: 73856 entries, 0 to 73855\n",
      "Data columns (total 3 columns):\n",
      " #   Column         Non-Null Count  Dtype  \n",
      "---  ------         --------------  -----  \n",
      " 0   movie_id       73856 non-null  object \n",
      " 1   averagerating  73856 non-null  float64\n",
      " 2   numvotes       73856 non-null  int64  \n",
      "dtypes: float64(1), int64(1), object(1)\n",
      "memory usage: 1.7+ MB\n"
     ]
    }
   ],
   "source": [
    "#get data type of ratings_df and non-null count\n",
    "ratings_df.info()"
   ]
  },
  {
   "cell_type": "code",
   "execution_count": 91,
   "id": "f047ba48",
   "metadata": {},
   "outputs": [
    {
     "data": {
      "application/vnd.microsoft.datawrangler.viewer.v0+json": {
       "columns": [
        {
         "name": "index",
         "rawType": "int64",
         "type": "integer"
        },
        {
         "name": "id",
         "rawType": "int64",
         "type": "integer"
        },
        {
         "name": "release_date",
         "rawType": "object",
         "type": "string"
        },
        {
         "name": "movie",
         "rawType": "object",
         "type": "string"
        },
        {
         "name": "production_budget",
         "rawType": "object",
         "type": "string"
        },
        {
         "name": "domestic_gross",
         "rawType": "object",
         "type": "string"
        },
        {
         "name": "worldwide_gross",
         "rawType": "object",
         "type": "string"
        }
       ],
       "ref": "657573e4-7706-4f7e-86b8-22c7d9a864cd",
       "rows": [
        [
         "0",
         "1",
         "Dec 18, 2009",
         "Avatar",
         "$425,000,000",
         "$760,507,625",
         "$2,776,345,279"
        ],
        [
         "1",
         "2",
         "May 20, 2011",
         "Pirates of the Caribbean: On Stranger Tides",
         "$410,600,000",
         "$241,063,875",
         "$1,045,663,875"
        ],
        [
         "2",
         "3",
         "Jun 7, 2019",
         "Dark Phoenix",
         "$350,000,000",
         "$42,762,350",
         "$149,762,350"
        ],
        [
         "3",
         "4",
         "May 1, 2015",
         "Avengers: Age of Ultron",
         "$330,600,000",
         "$459,005,868",
         "$1,403,013,963"
        ],
        [
         "4",
         "5",
         "Dec 15, 2017",
         "Star Wars Ep. VIII: The Last Jedi",
         "$317,000,000",
         "$620,181,382",
         "$1,316,721,747"
        ],
        [
         "5",
         "6",
         "Dec 18, 2015",
         "Star Wars Ep. VII: The Force Awakens",
         "$306,000,000",
         "$936,662,225",
         "$2,053,311,220"
        ],
        [
         "6",
         "7",
         "Apr 27, 2018",
         "Avengers: Infinity War",
         "$300,000,000",
         "$678,815,482",
         "$2,048,134,200"
        ],
        [
         "7",
         "8",
         "May 24, 2007",
         "Pirates of the Caribbean: At Worldâs End",
         "$300,000,000",
         "$309,420,425",
         "$963,420,425"
        ],
        [
         "8",
         "9",
         "Nov 17, 2017",
         "Justice League",
         "$300,000,000",
         "$229,024,295",
         "$655,945,209"
        ],
        [
         "9",
         "10",
         "Nov 6, 2015",
         "Spectre",
         "$300,000,000",
         "$200,074,175",
         "$879,620,923"
        ],
        [
         "10",
         "11",
         "Jul 20, 2012",
         "The Dark Knight Rises",
         "$275,000,000",
         "$448,139,099",
         "$1,084,439,099"
        ],
        [
         "11",
         "12",
         "May 25, 2018",
         "Solo: A Star Wars Story",
         "$275,000,000",
         "$213,767,512",
         "$393,151,347"
        ],
        [
         "12",
         "13",
         "Jul 2, 2013",
         "The Lone Ranger",
         "$275,000,000",
         "$89,302,115",
         "$260,002,115"
        ],
        [
         "13",
         "14",
         "Mar 9, 2012",
         "John Carter",
         "$275,000,000",
         "$73,058,679",
         "$282,778,100"
        ],
        [
         "14",
         "15",
         "Nov 24, 2010",
         "Tangled",
         "$260,000,000",
         "$200,821,936",
         "$586,477,240"
        ],
        [
         "15",
         "16",
         "May 4, 2007",
         "Spider-Man 3",
         "$258,000,000",
         "$336,530,303",
         "$894,860,230"
        ],
        [
         "16",
         "17",
         "May 6, 2016",
         "Captain America: Civil War",
         "$250,000,000",
         "$408,084,349",
         "$1,140,069,413"
        ],
        [
         "17",
         "18",
         "Mar 25, 2016",
         "Batman v Superman: Dawn of Justice",
         "$250,000,000",
         "$330,360,194",
         "$867,500,281"
        ],
        [
         "18",
         "19",
         "Dec 14, 2012",
         "The Hobbit: An Unexpected Journey",
         "$250,000,000",
         "$303,003,568",
         "$1,017,003,568"
        ],
        [
         "19",
         "20",
         "Jul 15, 2009",
         "Harry Potter and the Half-Blood Prince",
         "$250,000,000",
         "$302,089,278",
         "$935,213,767"
        ],
        [
         "20",
         "21",
         "Dec 13, 2013",
         "The Hobbit: The Desolation of Smaug",
         "$250,000,000",
         "$258,366,855",
         "$960,366,855"
        ],
        [
         "21",
         "22",
         "Dec 17, 2014",
         "The Hobbit: The Battle of the Five Armies",
         "$250,000,000",
         "$255,119,788",
         "$945,577,621"
        ],
        [
         "22",
         "23",
         "Apr 14, 2017",
         "The Fate of the Furious",
         "$250,000,000",
         "$225,764,765",
         "$1,234,846,267"
        ],
        [
         "23",
         "24",
         "Jun 28, 2006",
         "Superman Returns",
         "$232,000,000",
         "$200,120,000",
         "$374,085,065"
        ],
        [
         "24",
         "25",
         "May 26, 2017",
         "Pirates of the Caribbean: Dead Men Tell No Tales",
         "$230,000,000",
         "$172,558,876",
         "$788,241,137"
        ],
        [
         "25",
         "26",
         "Nov 14, 2008",
         "Quantum of Solace",
         "$230,000,000",
         "$169,368,427",
         "$591,692,078"
        ],
        [
         "26",
         "27",
         "May 4, 2012",
         "The Avengers",
         "$225,000,000",
         "$623,279,547",
         "$1,517,935,897"
        ],
        [
         "27",
         "28",
         "Jul 7, 2006",
         "Pirates of the Caribbean: Dead Manâs Chest",
         "$225,000,000",
         "$423,315,812",
         "$1,066,215,812"
        ],
        [
         "28",
         "29",
         "Jun 14, 2013",
         "Man of Steel",
         "$225,000,000",
         "$291,045,518",
         "$667,999,518"
        ],
        [
         "29",
         "30",
         "May 16, 2008",
         "The Chronicles of Narnia: Prince Caspian",
         "$225,000,000",
         "$141,621,490",
         "$417,341,288"
        ],
        [
         "30",
         "31",
         "Jul 3, 2012",
         "The Amazing Spider-Man",
         "$220,000,000",
         "$262,030,663",
         "$757,890,267"
        ],
        [
         "31",
         "32",
         "May 18, 2012",
         "Battleship",
         "$220,000,000",
         "$65,233,400",
         "$313,477,717"
        ],
        [
         "32",
         "33",
         "Jun 21, 2017",
         "Transformers: The Last Knight",
         "$217,000,000",
         "$130,168,683",
         "$602,893,340"
        ],
        [
         "33",
         "34",
         "Jun 12, 2015",
         "Jurassic World",
         "$215,000,000",
         "$652,270,625",
         "$1,648,854,864"
        ],
        [
         "34",
         "35",
         "May 25, 2012",
         "Men in Black 3",
         "$215,000,000",
         "$179,020,854",
         "$654,213,485"
        ],
        [
         "35",
         "36",
         "Jun 24, 2009",
         "Transformers: Revenge of the Fallen",
         "$210,000,000",
         "$402,111,870",
         "$836,519,699"
        ],
        [
         "36",
         "37",
         "Jun 27, 2014",
         "Transformers: Age of Extinction",
         "$210,000,000",
         "$245,439,076",
         "$1,104,039,076"
        ],
        [
         "37",
         "38",
         "May 26, 2006",
         "X-Men: The Last Stand",
         "$210,000,000",
         "$234,362,462",
         "$459,260,946"
        ],
        [
         "38",
         "39",
         "May 14, 2010",
         "Robin Hood",
         "$210,000,000",
         "$105,487,148",
         "$322,459,006"
        ],
        [
         "39",
         "40",
         "Dec 14, 2005",
         "King Kong",
         "$207,000,000",
         "$218,080,025",
         "$550,517,357"
        ],
        [
         "40",
         "41",
         "Dec 7, 2007",
         "The Golden Compass",
         "$205,000,000",
         "$70,107,728",
         "$367,262,558"
        ],
        [
         "41",
         "42",
         "Feb 16, 2018",
         "Black Panther",
         "$200,000,000",
         "$700,059,566",
         "$1,348,258,224"
        ],
        [
         "42",
         "43",
         "Dec 19, 1997",
         "Titanic",
         "$200,000,000",
         "$659,363,944",
         "$2,208,208,395"
        ],
        [
         "43",
         "44",
         "Jun 15, 2018",
         "Incredibles 2",
         "$200,000,000",
         "$608,581,744",
         "$1,242,520,711"
        ],
        [
         "44",
         "45",
         "Dec 16, 2016",
         "Rogue One: A Star Wars Story",
         "$200,000,000",
         "$532,177,324",
         "$1,049,102,856"
        ],
        [
         "45",
         "46",
         "Jun 17, 2016",
         "Finding Dory",
         "$200,000,000",
         "$486,295,561",
         "$1,021,215,193"
        ],
        [
         "46",
         "47",
         "Jun 18, 2010",
         "Toy Story 3",
         "$200,000,000",
         "$415,004,880",
         "$1,068,879,522"
        ],
        [
         "47",
         "48",
         "May 3, 2013",
         "Iron Man 3",
         "$200,000,000",
         "$408,992,272",
         "$1,215,392,272"
        ],
        [
         "48",
         "49",
         "May 5, 2017",
         "Guardians of the Galaxy Vol 2",
         "$200,000,000",
         "$389,813,101",
         "$862,316,233"
        ],
        [
         "49",
         "50",
         "Jun 30, 2004",
         "Spider-Man 2",
         "$200,000,000",
         "$373,524,485",
         "$795,110,670"
        ]
       ],
       "shape": {
        "columns": 6,
        "rows": 5782
       }
      },
      "text/html": [
       "<div>\n",
       "<style scoped>\n",
       "    .dataframe tbody tr th:only-of-type {\n",
       "        vertical-align: middle;\n",
       "    }\n",
       "\n",
       "    .dataframe tbody tr th {\n",
       "        vertical-align: top;\n",
       "    }\n",
       "\n",
       "    .dataframe thead th {\n",
       "        text-align: right;\n",
       "    }\n",
       "</style>\n",
       "<table border=\"1\" class=\"dataframe\">\n",
       "  <thead>\n",
       "    <tr style=\"text-align: right;\">\n",
       "      <th></th>\n",
       "      <th>id</th>\n",
       "      <th>release_date</th>\n",
       "      <th>movie</th>\n",
       "      <th>production_budget</th>\n",
       "      <th>domestic_gross</th>\n",
       "      <th>worldwide_gross</th>\n",
       "    </tr>\n",
       "  </thead>\n",
       "  <tbody>\n",
       "    <tr>\n",
       "      <th>0</th>\n",
       "      <td>1</td>\n",
       "      <td>Dec 18, 2009</td>\n",
       "      <td>Avatar</td>\n",
       "      <td>$425,000,000</td>\n",
       "      <td>$760,507,625</td>\n",
       "      <td>$2,776,345,279</td>\n",
       "    </tr>\n",
       "    <tr>\n",
       "      <th>1</th>\n",
       "      <td>2</td>\n",
       "      <td>May 20, 2011</td>\n",
       "      <td>Pirates of the Caribbean: On Stranger Tides</td>\n",
       "      <td>$410,600,000</td>\n",
       "      <td>$241,063,875</td>\n",
       "      <td>$1,045,663,875</td>\n",
       "    </tr>\n",
       "    <tr>\n",
       "      <th>2</th>\n",
       "      <td>3</td>\n",
       "      <td>Jun 7, 2019</td>\n",
       "      <td>Dark Phoenix</td>\n",
       "      <td>$350,000,000</td>\n",
       "      <td>$42,762,350</td>\n",
       "      <td>$149,762,350</td>\n",
       "    </tr>\n",
       "    <tr>\n",
       "      <th>3</th>\n",
       "      <td>4</td>\n",
       "      <td>May 1, 2015</td>\n",
       "      <td>Avengers: Age of Ultron</td>\n",
       "      <td>$330,600,000</td>\n",
       "      <td>$459,005,868</td>\n",
       "      <td>$1,403,013,963</td>\n",
       "    </tr>\n",
       "    <tr>\n",
       "      <th>4</th>\n",
       "      <td>5</td>\n",
       "      <td>Dec 15, 2017</td>\n",
       "      <td>Star Wars Ep. VIII: The Last Jedi</td>\n",
       "      <td>$317,000,000</td>\n",
       "      <td>$620,181,382</td>\n",
       "      <td>$1,316,721,747</td>\n",
       "    </tr>\n",
       "    <tr>\n",
       "      <th>...</th>\n",
       "      <td>...</td>\n",
       "      <td>...</td>\n",
       "      <td>...</td>\n",
       "      <td>...</td>\n",
       "      <td>...</td>\n",
       "      <td>...</td>\n",
       "    </tr>\n",
       "    <tr>\n",
       "      <th>5777</th>\n",
       "      <td>78</td>\n",
       "      <td>Dec 31, 2018</td>\n",
       "      <td>Red 11</td>\n",
       "      <td>$7,000</td>\n",
       "      <td>$0</td>\n",
       "      <td>$0</td>\n",
       "    </tr>\n",
       "    <tr>\n",
       "      <th>5778</th>\n",
       "      <td>79</td>\n",
       "      <td>Apr 2, 1999</td>\n",
       "      <td>Following</td>\n",
       "      <td>$6,000</td>\n",
       "      <td>$48,482</td>\n",
       "      <td>$240,495</td>\n",
       "    </tr>\n",
       "    <tr>\n",
       "      <th>5779</th>\n",
       "      <td>80</td>\n",
       "      <td>Jul 13, 2005</td>\n",
       "      <td>Return to the Land of Wonders</td>\n",
       "      <td>$5,000</td>\n",
       "      <td>$1,338</td>\n",
       "      <td>$1,338</td>\n",
       "    </tr>\n",
       "    <tr>\n",
       "      <th>5780</th>\n",
       "      <td>81</td>\n",
       "      <td>Sep 29, 2015</td>\n",
       "      <td>A Plague So Pleasant</td>\n",
       "      <td>$1,400</td>\n",
       "      <td>$0</td>\n",
       "      <td>$0</td>\n",
       "    </tr>\n",
       "    <tr>\n",
       "      <th>5781</th>\n",
       "      <td>82</td>\n",
       "      <td>Aug 5, 2005</td>\n",
       "      <td>My Date With Drew</td>\n",
       "      <td>$1,100</td>\n",
       "      <td>$181,041</td>\n",
       "      <td>$181,041</td>\n",
       "    </tr>\n",
       "  </tbody>\n",
       "</table>\n",
       "<p>5782 rows × 6 columns</p>\n",
       "</div>"
      ],
      "text/plain": [
       "      id  release_date                                        movie  \\\n",
       "0      1  Dec 18, 2009                                       Avatar   \n",
       "1      2  May 20, 2011  Pirates of the Caribbean: On Stranger Tides   \n",
       "2      3   Jun 7, 2019                                 Dark Phoenix   \n",
       "3      4   May 1, 2015                      Avengers: Age of Ultron   \n",
       "4      5  Dec 15, 2017            Star Wars Ep. VIII: The Last Jedi   \n",
       "...   ..           ...                                          ...   \n",
       "5777  78  Dec 31, 2018                                       Red 11   \n",
       "5778  79   Apr 2, 1999                                    Following   \n",
       "5779  80  Jul 13, 2005                Return to the Land of Wonders   \n",
       "5780  81  Sep 29, 2015                         A Plague So Pleasant   \n",
       "5781  82   Aug 5, 2005                            My Date With Drew   \n",
       "\n",
       "     production_budget domestic_gross worldwide_gross  \n",
       "0         $425,000,000   $760,507,625  $2,776,345,279  \n",
       "1         $410,600,000   $241,063,875  $1,045,663,875  \n",
       "2         $350,000,000    $42,762,350    $149,762,350  \n",
       "3         $330,600,000   $459,005,868  $1,403,013,963  \n",
       "4         $317,000,000   $620,181,382  $1,316,721,747  \n",
       "...                ...            ...             ...  \n",
       "5777            $7,000             $0              $0  \n",
       "5778            $6,000        $48,482        $240,495  \n",
       "5779            $5,000         $1,338          $1,338  \n",
       "5780            $1,400             $0              $0  \n",
       "5781            $1,100       $181,041        $181,041  \n",
       "\n",
       "[5782 rows x 6 columns]"
      ]
     },
     "execution_count": 91,
     "metadata": {},
     "output_type": "execute_result"
    }
   ],
   "source": [
    "# TN Movie budgets dataset\n",
    "tn_df = pd.read_csv('tn.movie_budgets.csv')\n",
    "tn_df"
   ]
  },
  {
   "cell_type": "code",
   "execution_count": 92,
   "id": "4920facc",
   "metadata": {},
   "outputs": [
    {
     "name": "stdout",
     "output_type": "stream",
     "text": [
      "<class 'pandas.core.frame.DataFrame'>\n",
      "RangeIndex: 5782 entries, 0 to 5781\n",
      "Data columns (total 6 columns):\n",
      " #   Column             Non-Null Count  Dtype \n",
      "---  ------             --------------  ----- \n",
      " 0   id                 5782 non-null   int64 \n",
      " 1   release_date       5782 non-null   object\n",
      " 2   movie              5782 non-null   object\n",
      " 3   production_budget  5782 non-null   object\n",
      " 4   domestic_gross     5782 non-null   object\n",
      " 5   worldwide_gross    5782 non-null   object\n",
      "dtypes: int64(1), object(5)\n",
      "memory usage: 271.2+ KB\n"
     ]
    }
   ],
   "source": [
    "#get data type of tn columns and non-null count\n",
    "tn_df.info()"
   ]
  },
  {
   "cell_type": "markdown",
   "id": "ba0b253a",
   "metadata": {},
   "source": [
    "## 2.1 Data Cleaning"
   ]
  },
  {
   "cell_type": "markdown",
   "id": "af37575d",
   "metadata": {},
   "source": [
    "### For the Box office csv dataset and IMDB basics_df table we are dropping the null values, to prepare the data for analysis."
   ]
  },
  {
   "cell_type": "code",
   "execution_count": 93,
   "id": "ddc13b8f",
   "metadata": {},
   "outputs": [
    {
     "name": "stdout",
     "output_type": "stream",
     "text": [
      "<class 'pandas.core.frame.DataFrame'>\n",
      "Index: 2007 entries, 0 to 3353\n",
      "Data columns (total 5 columns):\n",
      " #   Column          Non-Null Count  Dtype  \n",
      "---  ------          --------------  -----  \n",
      " 0   title           2007 non-null   object \n",
      " 1   studio          2007 non-null   object \n",
      " 2   domestic_gross  2007 non-null   float64\n",
      " 3   foreign_gross   2007 non-null   object \n",
      " 4   year            2007 non-null   int64  \n",
      "dtypes: float64(1), int64(1), object(3)\n",
      "memory usage: 94.1+ KB\n"
     ]
    }
   ],
   "source": [
    "#dropping null values in box office movie dataset\n",
    "bom_df = bom_df.dropna()\n",
    "bom_df\n",
    "bom_df.info()\n"
   ]
  },
  {
   "cell_type": "code",
   "execution_count": 94,
   "id": "2bc92acd",
   "metadata": {},
   "outputs": [
    {
     "name": "stdout",
     "output_type": "stream",
     "text": [
      "<class 'pandas.core.frame.DataFrame'>\n",
      "Index: 112232 entries, 0 to 146139\n",
      "Data columns (total 6 columns):\n",
      " #   Column           Non-Null Count   Dtype  \n",
      "---  ------           --------------   -----  \n",
      " 0   movie_id         112232 non-null  object \n",
      " 1   primary_title    112232 non-null  object \n",
      " 2   original_title   112232 non-null  object \n",
      " 3   start_year       112232 non-null  int64  \n",
      " 4   runtime_minutes  112232 non-null  float64\n",
      " 5   genres           112232 non-null  object \n",
      "dtypes: float64(1), int64(1), object(4)\n",
      "memory usage: 6.0+ MB\n"
     ]
    }
   ],
   "source": [
    "#dropping null values in basics table from IMDB Database\n",
    "basics_df = basics_df.dropna()\n",
    "basics_df.info()"
   ]
  },
  {
   "cell_type": "code",
   "execution_count": 95,
   "id": "acc0bd99",
   "metadata": {},
   "outputs": [
    {
     "name": "stdout",
     "output_type": "stream",
     "text": [
      "movie_id         0\n",
      "averagerating    0\n",
      "numvotes         0\n",
      "dtype: int64\n",
      "movie_id           0\n",
      "primary_title      0\n",
      "original_title     0\n",
      "start_year         0\n",
      "runtime_minutes    0\n",
      "genres             0\n",
      "dtype: int64\n"
     ]
    }
   ],
   "source": [
    "#show total of missing values from both tables\n",
    "print(ratings_df.isnull().sum())\n",
    "print(basics_df.isnull().sum())"
   ]
  },
  {
   "cell_type": "markdown",
   "id": "c198da2a",
   "metadata": {},
   "source": [
    "## 2.2 Data Wrangling"
   ]
  },
  {
   "cell_type": "markdown",
   "id": "7dd51fc5",
   "metadata": {},
   "source": [
    "### Create a unified movies_df table using inner join with basics_df and ratings_df for easier analysis.\n"
   ]
  },
  {
   "cell_type": "code",
   "execution_count": 96,
   "id": "c1d5d06a",
   "metadata": {},
   "outputs": [
    {
     "data": {
      "application/vnd.microsoft.datawrangler.viewer.v0+json": {
       "columns": [
        {
         "name": "index",
         "rawType": "int64",
         "type": "integer"
        },
        {
         "name": "movie_id",
         "rawType": "object",
         "type": "string"
        },
        {
         "name": "primary_title",
         "rawType": "object",
         "type": "string"
        },
        {
         "name": "original_title",
         "rawType": "object",
         "type": "string"
        },
        {
         "name": "start_year",
         "rawType": "int64",
         "type": "integer"
        },
        {
         "name": "runtime_minutes",
         "rawType": "float64",
         "type": "float"
        },
        {
         "name": "genres",
         "rawType": "object",
         "type": "string"
        },
        {
         "name": "averagerating",
         "rawType": "float64",
         "type": "float"
        },
        {
         "name": "numvotes",
         "rawType": "int64",
         "type": "integer"
        }
       ],
       "ref": "f0f826d2-2149-42b4-928b-51abecef2a31",
       "rows": [
        [
         "0",
         "tt0063540",
         "Sunghursh",
         "Sunghursh",
         "2013",
         "175.0",
         "Action,Crime,Drama",
         "7.0",
         "77"
        ],
        [
         "1",
         "tt0066787",
         "One Day Before the Rainy Season",
         "Ashad Ka Ek Din",
         "2019",
         "114.0",
         "Biography,Drama",
         "7.2",
         "43"
        ],
        [
         "2",
         "tt0069049",
         "The Other Side of the Wind",
         "The Other Side of the Wind",
         "2018",
         "122.0",
         "Drama",
         "6.9",
         "4517"
        ],
        [
         "3",
         "tt0100275",
         "The Wandering Soap Opera",
         "La Telenovela Errante",
         "2017",
         "80.0",
         "Comedy,Drama,Fantasy",
         "6.5",
         "119"
        ],
        [
         "4",
         "tt0137204",
         "Joe Finds Grace",
         "Joe Finds Grace",
         "2017",
         "83.0",
         "Adventure,Animation,Comedy",
         "8.1",
         "263"
        ],
        [
         "5",
         "tt0146592",
         "Pál Adrienn",
         "Pál Adrienn",
         "2010",
         "136.0",
         "Drama",
         "6.8",
         "451"
        ],
        [
         "6",
         "tt0154039",
         "So Much for Justice!",
         "Oda az igazság",
         "2010",
         "100.0",
         "History",
         "4.6",
         "64"
        ],
        [
         "7",
         "tt0159369",
         "Cooper and Hemingway: The True Gen",
         "Cooper and Hemingway: The True Gen",
         "2013",
         "180.0",
         "Documentary",
         "7.6",
         "53"
        ],
        [
         "8",
         "tt0162942",
         "Children of the Green Dragon",
         "A zöld sárkány gyermekei",
         "2010",
         "89.0",
         "Drama",
         "6.9",
         "120"
        ],
        [
         "9",
         "tt0170651",
         "T.G.M. - osvoboditel",
         "T.G.M. - osvoboditel",
         "2018",
         "60.0",
         "Documentary",
         "7.5",
         "6"
        ],
        [
         "10",
         "tt0176694",
         "The Tragedy of Man",
         "Az ember tragédiája",
         "2011",
         "160.0",
         "Animation,Drama,History",
         "7.8",
         "584"
        ],
        [
         "11",
         "tt0192528",
         "Heaven & Hell",
         "Reverse Heaven",
         "2018",
         "104.0",
         "Drama",
         "4.0",
         "72"
        ],
        [
         "12",
         "tt0230212",
         "The Final Journey",
         "The Final Journey",
         "2010",
         "120.0",
         "Drama",
         "8.8",
         "8"
        ],
        [
         "13",
         "tt0247643",
         "Los pájaros se van con la muerte",
         "Los pájaros se van con la muerte",
         "2011",
         "110.0",
         "Drama,Mystery",
         "4.0",
         "12"
        ],
        [
         "14",
         "tt0249516",
         "Foodfight!",
         "Foodfight!",
         "2012",
         "91.0",
         "Action,Animation,Comedy",
         "1.9",
         "8248"
        ],
        [
         "15",
         "tt0255820",
         "Return to Babylon",
         "Return to Babylon",
         "2013",
         "75.0",
         "Biography,Comedy,Drama",
         "5.9",
         "123"
        ],
        [
         "16",
         "tt0262218",
         "Akakis mogzauroba",
         "Akakis mogzauroba",
         "2012",
         "44.0",
         "Documentary",
         "7.8",
         "22"
        ],
        [
         "17",
         "tt0276568",
         "To Chase a Million",
         "To Chase a Million",
         "2018",
         "97.0",
         "Action,Drama",
         "7.4",
         "5"
        ],
        [
         "18",
         "tt0277964",
         "Prague: The Restless Heart of Europe",
         "Praha - neklidné srdce Evropy",
         "2018",
         "59.0",
         "Documentary,History",
         "7.0",
         "31"
        ],
        [
         "19",
         "tt0283440",
         "Short Time Heroes",
         "Kurzzeithelden",
         "2015",
         "45.0",
         "Sci-Fi",
         "6.6",
         "16"
        ],
        [
         "20",
         "tt0285252",
         "Life's a Beach",
         "Life's a Beach",
         "2012",
         "100.0",
         "Comedy",
         "3.9",
         "219"
        ],
        [
         "21",
         "tt0293069",
         "Dark Blood",
         "Dark Blood",
         "2012",
         "86.0",
         "Thriller",
         "6.6",
         "1053"
        ],
        [
         "22",
         "tt0312305",
         "Quantum Quest: A Cassini Space Odyssey",
         "Quantum Quest: A Cassini Space Odyssey",
         "2010",
         "45.0",
         "Adventure,Animation,Sci-Fi",
         "5.1",
         "287"
        ],
        [
         "23",
         "tt0315642",
         "Wazir",
         "Wazir",
         "2016",
         "103.0",
         "Action,Crime,Drama",
         "7.1",
         "15378"
        ],
        [
         "24",
         "tt0323808",
         "The Wicker Tree",
         "The Wicker Tree",
         "2011",
         "96.0",
         "Drama,Horror",
         "3.9",
         "2328"
        ],
        [
         "25",
         "tt0326965",
         "In My Sleep",
         "In My Sleep",
         "2010",
         "104.0",
         "Drama,Mystery,Thriller",
         "5.5",
         "1889"
        ],
        [
         "26",
         "tt0328810",
         "My Land",
         "Aamaar Bhuvan",
         "2018",
         "102.0",
         "Drama,Family",
         "7.9",
         "61"
        ],
        [
         "27",
         "tt0329539",
         "Rice Girl",
         "Rice Girl",
         "2014",
         "95.0",
         "Adventure,Comedy,Romance",
         "6.1",
         "73"
        ],
        [
         "28",
         "tt0331312",
         "This Wretched Life",
         "This Wretched Life",
         "2010",
         "99.0",
         "Comedy,Drama",
         "7.6",
         "59"
        ],
        [
         "29",
         "tt0331314",
         "Bunyan and Babe",
         "Bunyan and Babe",
         "2017",
         "84.0",
         "Adventure,Animation,Comedy",
         "5.0",
         "302"
        ],
        [
         "30",
         "tt0337692",
         "On the Road",
         "On the Road",
         "2012",
         "124.0",
         "Adventure,Drama,Romance",
         "6.1",
         "37886"
        ],
        [
         "31",
         "tt0337926",
         "Chatô - The King of Brazil",
         "Chatô: O Rei do Brasil",
         "2015",
         "102.0",
         "Biography",
         "6.0",
         "558"
        ],
        [
         "32",
         "tt0339736",
         "The Evil Within",
         "The Evil Within",
         "2017",
         "98.0",
         "Horror",
         "5.6",
         "2420"
        ],
        [
         "33",
         "tt0346045",
         "Transeúntes",
         "Transeúntes",
         "2015",
         "101.0",
         "Comedy,Drama",
         "6.7",
         "35"
        ],
        [
         "34",
         "tt0359950",
         "The Secret Life of Walter Mitty",
         "The Secret Life of Walter Mitty",
         "2013",
         "114.0",
         "Adventure,Comedy,Drama",
         "7.3",
         "275300"
        ],
        [
         "35",
         "tt0360556",
         "Fahrenheit 451",
         "Fahrenheit 451",
         "2018",
         "100.0",
         "Drama,Sci-Fi,Thriller",
         "4.9",
         "14469"
        ],
        [
         "36",
         "tt0364201",
         "Aman Ke Farishtey",
         "Aman Ke Farishtey",
         "2016",
         "137.0",
         "Action",
         "6.4",
         "16"
        ],
        [
         "37",
         "tt0365545",
         "Nappily Ever After",
         "Nappily Ever After",
         "2018",
         "98.0",
         "Comedy,Drama,Romance",
         "6.4",
         "6287"
        ],
        [
         "38",
         "tt0365907",
         "A Walk Among the Tombstones",
         "A Walk Among the Tombstones",
         "2014",
         "114.0",
         "Action,Crime,Drama",
         "6.5",
         "105116"
        ],
        [
         "39",
         "tt0369610",
         "Jurassic World",
         "Jurassic World",
         "2015",
         "124.0",
         "Action,Adventure,Sci-Fi",
         "7.0",
         "539338"
        ],
        [
         "40",
         "tt0372538",
         "Spy",
         "Spy",
         "2011",
         "110.0",
         "Action,Crime,Drama",
         "6.6",
         "78"
        ],
        [
         "41",
         "tt0376136",
         "The Rum Diary",
         "The Rum Diary",
         "2011",
         "119.0",
         "Comedy,Drama",
         "6.2",
         "94787"
        ],
        [
         "42",
         "tt0376479",
         "American Pastoral",
         "American Pastoral",
         "2016",
         "108.0",
         "Crime,Drama",
         "6.1",
         "12898"
        ],
        [
         "43",
         "tt0377981",
         "Gnomeo & Juliet",
         "Gnomeo & Juliet",
         "2011",
         "84.0",
         "Adventure,Animation,Comedy",
         "6.0",
         "49550"
        ],
        [
         "44",
         "tt0381957",
         "Cloud Cuckoo Land",
         "Cloud Cuckoo Land",
         "2012",
         "92.0",
         "Drama",
         "7.6",
         "23"
        ],
        [
         "45",
         "tt0383010",
         "The Three Stooges",
         "The Three Stooges",
         "2012",
         "92.0",
         "Comedy,Family",
         "5.1",
         "28570"
        ],
        [
         "46",
         "tt0393049",
         "Anderson's Cross",
         "Anderson's Cross",
         "2010",
         "98.0",
         "Comedy,Drama,Romance",
         "5.5",
         "106"
        ],
        [
         "47",
         "tt0396123",
         "Den milde smerte",
         "Den milde smerte",
         "2010",
         "280.0",
         "Drama",
         "7.8",
         "6"
        ],
        [
         "48",
         "tt0398286",
         "Tangled",
         "Tangled",
         "2010",
         "100.0",
         "Adventure,Animation,Comedy",
         "7.8",
         "366366"
        ],
        [
         "49",
         "tt0400320",
         "The Connecticut Kid",
         "The Connecticut Kid",
         "2011",
         "87.0",
         "Adventure",
         "7.9",
         "18"
        ]
       ],
       "shape": {
        "columns": 8,
        "rows": 65720
       }
      },
      "text/html": [
       "<div>\n",
       "<style scoped>\n",
       "    .dataframe tbody tr th:only-of-type {\n",
       "        vertical-align: middle;\n",
       "    }\n",
       "\n",
       "    .dataframe tbody tr th {\n",
       "        vertical-align: top;\n",
       "    }\n",
       "\n",
       "    .dataframe thead th {\n",
       "        text-align: right;\n",
       "    }\n",
       "</style>\n",
       "<table border=\"1\" class=\"dataframe\">\n",
       "  <thead>\n",
       "    <tr style=\"text-align: right;\">\n",
       "      <th></th>\n",
       "      <th>movie_id</th>\n",
       "      <th>primary_title</th>\n",
       "      <th>original_title</th>\n",
       "      <th>start_year</th>\n",
       "      <th>runtime_minutes</th>\n",
       "      <th>genres</th>\n",
       "      <th>averagerating</th>\n",
       "      <th>numvotes</th>\n",
       "    </tr>\n",
       "  </thead>\n",
       "  <tbody>\n",
       "    <tr>\n",
       "      <th>0</th>\n",
       "      <td>tt0063540</td>\n",
       "      <td>Sunghursh</td>\n",
       "      <td>Sunghursh</td>\n",
       "      <td>2013</td>\n",
       "      <td>175.0</td>\n",
       "      <td>Action,Crime,Drama</td>\n",
       "      <td>7.0</td>\n",
       "      <td>77</td>\n",
       "    </tr>\n",
       "    <tr>\n",
       "      <th>1</th>\n",
       "      <td>tt0066787</td>\n",
       "      <td>One Day Before the Rainy Season</td>\n",
       "      <td>Ashad Ka Ek Din</td>\n",
       "      <td>2019</td>\n",
       "      <td>114.0</td>\n",
       "      <td>Biography,Drama</td>\n",
       "      <td>7.2</td>\n",
       "      <td>43</td>\n",
       "    </tr>\n",
       "    <tr>\n",
       "      <th>2</th>\n",
       "      <td>tt0069049</td>\n",
       "      <td>The Other Side of the Wind</td>\n",
       "      <td>The Other Side of the Wind</td>\n",
       "      <td>2018</td>\n",
       "      <td>122.0</td>\n",
       "      <td>Drama</td>\n",
       "      <td>6.9</td>\n",
       "      <td>4517</td>\n",
       "    </tr>\n",
       "    <tr>\n",
       "      <th>3</th>\n",
       "      <td>tt0100275</td>\n",
       "      <td>The Wandering Soap Opera</td>\n",
       "      <td>La Telenovela Errante</td>\n",
       "      <td>2017</td>\n",
       "      <td>80.0</td>\n",
       "      <td>Comedy,Drama,Fantasy</td>\n",
       "      <td>6.5</td>\n",
       "      <td>119</td>\n",
       "    </tr>\n",
       "    <tr>\n",
       "      <th>4</th>\n",
       "      <td>tt0137204</td>\n",
       "      <td>Joe Finds Grace</td>\n",
       "      <td>Joe Finds Grace</td>\n",
       "      <td>2017</td>\n",
       "      <td>83.0</td>\n",
       "      <td>Adventure,Animation,Comedy</td>\n",
       "      <td>8.1</td>\n",
       "      <td>263</td>\n",
       "    </tr>\n",
       "    <tr>\n",
       "      <th>...</th>\n",
       "      <td>...</td>\n",
       "      <td>...</td>\n",
       "      <td>...</td>\n",
       "      <td>...</td>\n",
       "      <td>...</td>\n",
       "      <td>...</td>\n",
       "      <td>...</td>\n",
       "      <td>...</td>\n",
       "    </tr>\n",
       "    <tr>\n",
       "      <th>65715</th>\n",
       "      <td>tt9911774</td>\n",
       "      <td>Padmavyuhathile Abhimanyu</td>\n",
       "      <td>Padmavyuhathile Abhimanyu</td>\n",
       "      <td>2019</td>\n",
       "      <td>130.0</td>\n",
       "      <td>Drama</td>\n",
       "      <td>8.4</td>\n",
       "      <td>365</td>\n",
       "    </tr>\n",
       "    <tr>\n",
       "      <th>65716</th>\n",
       "      <td>tt9913056</td>\n",
       "      <td>Swarm Season</td>\n",
       "      <td>Swarm Season</td>\n",
       "      <td>2019</td>\n",
       "      <td>86.0</td>\n",
       "      <td>Documentary</td>\n",
       "      <td>6.2</td>\n",
       "      <td>5</td>\n",
       "    </tr>\n",
       "    <tr>\n",
       "      <th>65717</th>\n",
       "      <td>tt9913084</td>\n",
       "      <td>Diabolik sono io</td>\n",
       "      <td>Diabolik sono io</td>\n",
       "      <td>2019</td>\n",
       "      <td>75.0</td>\n",
       "      <td>Documentary</td>\n",
       "      <td>6.2</td>\n",
       "      <td>6</td>\n",
       "    </tr>\n",
       "    <tr>\n",
       "      <th>65718</th>\n",
       "      <td>tt9914286</td>\n",
       "      <td>Sokagin Çocuklari</td>\n",
       "      <td>Sokagin Çocuklari</td>\n",
       "      <td>2019</td>\n",
       "      <td>98.0</td>\n",
       "      <td>Drama,Family</td>\n",
       "      <td>8.7</td>\n",
       "      <td>136</td>\n",
       "    </tr>\n",
       "    <tr>\n",
       "      <th>65719</th>\n",
       "      <td>tt9916160</td>\n",
       "      <td>Drømmeland</td>\n",
       "      <td>Drømmeland</td>\n",
       "      <td>2019</td>\n",
       "      <td>72.0</td>\n",
       "      <td>Documentary</td>\n",
       "      <td>6.5</td>\n",
       "      <td>11</td>\n",
       "    </tr>\n",
       "  </tbody>\n",
       "</table>\n",
       "<p>65720 rows × 8 columns</p>\n",
       "</div>"
      ],
      "text/plain": [
       "        movie_id                    primary_title              original_title  \\\n",
       "0      tt0063540                        Sunghursh                   Sunghursh   \n",
       "1      tt0066787  One Day Before the Rainy Season             Ashad Ka Ek Din   \n",
       "2      tt0069049       The Other Side of the Wind  The Other Side of the Wind   \n",
       "3      tt0100275         The Wandering Soap Opera       La Telenovela Errante   \n",
       "4      tt0137204                  Joe Finds Grace             Joe Finds Grace   \n",
       "...          ...                              ...                         ...   \n",
       "65715  tt9911774        Padmavyuhathile Abhimanyu   Padmavyuhathile Abhimanyu   \n",
       "65716  tt9913056                     Swarm Season                Swarm Season   \n",
       "65717  tt9913084                 Diabolik sono io            Diabolik sono io   \n",
       "65718  tt9914286                Sokagin Çocuklari           Sokagin Çocuklari   \n",
       "65719  tt9916160                       Drømmeland                  Drømmeland   \n",
       "\n",
       "       start_year  runtime_minutes                      genres  averagerating  \\\n",
       "0            2013            175.0          Action,Crime,Drama            7.0   \n",
       "1            2019            114.0             Biography,Drama            7.2   \n",
       "2            2018            122.0                       Drama            6.9   \n",
       "3            2017             80.0        Comedy,Drama,Fantasy            6.5   \n",
       "4            2017             83.0  Adventure,Animation,Comedy            8.1   \n",
       "...           ...              ...                         ...            ...   \n",
       "65715        2019            130.0                       Drama            8.4   \n",
       "65716        2019             86.0                 Documentary            6.2   \n",
       "65717        2019             75.0                 Documentary            6.2   \n",
       "65718        2019             98.0                Drama,Family            8.7   \n",
       "65719        2019             72.0                 Documentary            6.5   \n",
       "\n",
       "       numvotes  \n",
       "0            77  \n",
       "1            43  \n",
       "2          4517  \n",
       "3           119  \n",
       "4           263  \n",
       "...         ...  \n",
       "65715       365  \n",
       "65716         5  \n",
       "65717         6  \n",
       "65718       136  \n",
       "65719        11  \n",
       "\n",
       "[65720 rows x 8 columns]"
      ]
     },
     "execution_count": 96,
     "metadata": {},
     "output_type": "execute_result"
    }
   ],
   "source": [
    "#merging on 'movie_id' which is similar in both tables\n",
    "movies_df = pd.merge(basics_df, ratings_df, on = \"movie_id\", how = \"inner\")\n",
    "movies_df"
   ]
  },
  {
   "cell_type": "code",
   "execution_count": 97,
   "id": "cdc408fb",
   "metadata": {},
   "outputs": [
    {
     "name": "stdout",
     "output_type": "stream",
     "text": [
      "<class 'pandas.core.frame.DataFrame'>\n",
      "RangeIndex: 65720 entries, 0 to 65719\n",
      "Data columns (total 8 columns):\n",
      " #   Column           Non-Null Count  Dtype  \n",
      "---  ------           --------------  -----  \n",
      " 0   movie_id         65720 non-null  object \n",
      " 1   primary_title    65720 non-null  object \n",
      " 2   original_title   65720 non-null  object \n",
      " 3   start_year       65720 non-null  int64  \n",
      " 4   runtime_minutes  65720 non-null  float64\n",
      " 5   genres           65720 non-null  object \n",
      " 6   averagerating    65720 non-null  float64\n",
      " 7   numvotes         65720 non-null  int64  \n",
      "dtypes: float64(2), int64(2), object(4)\n",
      "memory usage: 4.0+ MB\n"
     ]
    }
   ],
   "source": [
    "#visualize new unified columns, their datatypes and non-null values\n",
    "movies_df.info()"
   ]
  },
  {
   "cell_type": "markdown",
   "id": "74ff491b",
   "metadata": {},
   "source": [
    "To accurately merge datasets from different sources (IMDb, Box Office Mojo, TN_Movie_Budgets), we need a common key — the movie title. However, title formatting often varies across datasets due to differences in capitalization, punctuation, and whitespace.\n",
    "\n",
    "In this step, we:\n",
    "\n",
    "* Convert all titles to lowercase\n",
    "\n",
    "* Strip any leading or trailing whitespace\n",
    "\n",
    "* This standardization allows for more accurate joins between datasets on title and release year."
   ]
  },
  {
   "cell_type": "code",
   "execution_count": 98,
   "id": "bf0030b4",
   "metadata": {},
   "outputs": [],
   "source": [
    "#Standardize the titles\n",
    "movies_df['original_title'] = movies_df['original_title'].str.lower().str.strip()\n",
    "bom_df['title'] = bom_df['title'].str.lower().str.strip()\n",
    "tn_df['movie'] = tn_df['movie'].str.lower().str.strip()\n"
   ]
  },
  {
   "cell_type": "code",
   "execution_count": 99,
   "id": "e715ad50",
   "metadata": {},
   "outputs": [
    {
     "data": {
      "application/vnd.microsoft.datawrangler.viewer.v0+json": {
       "columns": [
        {
         "name": "index",
         "rawType": "int64",
         "type": "integer"
        },
        {
         "name": "title",
         "rawType": "object",
         "type": "string"
        },
        {
         "name": "studio",
         "rawType": "object",
         "type": "string"
        },
        {
         "name": "domestic_gross",
         "rawType": "float64",
         "type": "float"
        },
        {
         "name": "foreign_gross",
         "rawType": "object",
         "type": "string"
        },
        {
         "name": "year",
         "rawType": "int64",
         "type": "integer"
        },
        {
         "name": "movie_id",
         "rawType": "object",
         "type": "string"
        },
        {
         "name": "primary_title",
         "rawType": "object",
         "type": "string"
        },
        {
         "name": "original_title",
         "rawType": "object",
         "type": "string"
        },
        {
         "name": "start_year",
         "rawType": "int64",
         "type": "integer"
        },
        {
         "name": "runtime_minutes",
         "rawType": "float64",
         "type": "float"
        },
        {
         "name": "genres",
         "rawType": "object",
         "type": "string"
        },
        {
         "name": "averagerating",
         "rawType": "float64",
         "type": "float"
        },
        {
         "name": "numvotes",
         "rawType": "int64",
         "type": "integer"
        }
       ],
       "ref": "2634de71-fbc5-4343-99ba-231cc0c48675",
       "rows": [
        [
         "0",
         "toy story 3",
         "BV",
         "415000000.0",
         "652000000",
         "2010",
         "tt0435761",
         "Toy Story 3",
         "toy story 3",
         "2010",
         "103.0",
         "Adventure,Animation,Comedy",
         "8.3",
         "682218"
        ],
        [
         "1",
         "inception",
         "WB",
         "292600000.0",
         "535700000",
         "2010",
         "tt1375666",
         "Inception",
         "inception",
         "2010",
         "148.0",
         "Action,Adventure,Sci-Fi",
         "8.8",
         "1841066"
        ],
        [
         "2",
         "shrek forever after",
         "P/DW",
         "238700000.0",
         "513900000",
         "2010",
         "tt0892791",
         "Shrek Forever After",
         "shrek forever after",
         "2010",
         "93.0",
         "Adventure,Animation,Comedy",
         "6.3",
         "167532"
        ],
        [
         "3",
         "the twilight saga: eclipse",
         "Sum.",
         "300500000.0",
         "398000000",
         "2010",
         "tt1325004",
         "The Twilight Saga: Eclipse",
         "the twilight saga: eclipse",
         "2010",
         "124.0",
         "Adventure,Drama,Fantasy",
         "5.0",
         "211733"
        ],
        [
         "4",
         "iron man 2",
         "Par.",
         "312400000.0",
         "311500000",
         "2010",
         "tt1228705",
         "Iron Man 2",
         "iron man 2",
         "2010",
         "124.0",
         "Action,Adventure,Sci-Fi",
         "7.0",
         "657690"
        ],
        [
         "5",
         "tangled",
         "BV",
         "200800000.0",
         "391000000",
         "2010",
         "tt0398286",
         "Tangled",
         "tangled",
         "2010",
         "100.0",
         "Adventure,Animation,Comedy",
         "7.8",
         "366366"
        ],
        [
         "6",
         "despicable me",
         "Uni.",
         "251500000.0",
         "291600000",
         "2010",
         "tt1323594",
         "Despicable Me",
         "despicable me",
         "2010",
         "95.0",
         "Animation,Comedy,Family",
         "7.7",
         "464511"
        ],
        [
         "7",
         "how to train your dragon",
         "P/DW",
         "217600000.0",
         "277300000",
         "2010",
         "tt0892769",
         "How to Train Your Dragon",
         "how to train your dragon",
         "2010",
         "98.0",
         "Action,Adventure,Animation",
         "8.1",
         "611299"
        ],
        [
         "8",
         "the chronicles of narnia: the voyage of the dawn treader",
         "Fox",
         "104400000.0",
         "311300000",
         "2010",
         "tt0980970",
         "The Chronicles of Narnia: The Voyage of the Dawn Treader",
         "the chronicles of narnia: the voyage of the dawn treader",
         "2010",
         "113.0",
         "Adventure,Family,Fantasy",
         "6.3",
         "129663"
        ],
        [
         "9",
         "the king's speech",
         "Wein.",
         "135500000.0",
         "275400000",
         "2010",
         "tt1504320",
         "The King's Speech",
         "the king's speech",
         "2010",
         "118.0",
         "Biography,Drama,History",
         "8.0",
         "593629"
        ],
        [
         "10",
         "the karate kid",
         "Sony",
         "176600000.0",
         "182500000",
         "2010",
         "tt1155076",
         "The Karate Kid",
         "the karate kid",
         "2010",
         "140.0",
         "Action,Drama,Family",
         "6.2",
         "146401"
        ],
        [
         "11",
         "prince of persia: the sands of time",
         "BV",
         "90800000.0",
         "245600000",
         "2010",
         "tt0473075",
         "Prince of Persia: The Sands of Time",
         "prince of persia: the sands of time",
         "2010",
         "116.0",
         "Action,Adventure,Fantasy",
         "6.6",
         "254975"
        ],
        [
         "12",
         "black swan",
         "FoxS",
         "107000000.0",
         "222400000",
         "2010",
         "tt0947798",
         "Black Swan",
         "black swan",
         "2010",
         "108.0",
         "Drama,Thriller",
         "8.0",
         "648854"
        ],
        [
         "13",
         "megamind",
         "P/DW",
         "148400000.0",
         "173500000",
         "2010",
         "tt1001526",
         "Megamind",
         "megamind",
         "2010",
         "95.0",
         "Action,Animation,Comedy",
         "7.3",
         "207488"
        ],
        [
         "14",
         "robin hood",
         "Uni.",
         "105300000.0",
         "216400000",
         "2010",
         "tt0955308",
         "Robin Hood",
         "robin hood",
         "2010",
         "140.0",
         "Action,Adventure,Drama",
         "6.6",
         "239480"
        ],
        [
         "15",
         "robin hood",
         "Uni.",
         "105300000.0",
         "216400000",
         "2010",
         "tt2363363",
         "Robin Hood",
         "robin hood",
         "2013",
         "92.0",
         "Action,Drama",
         "6.3",
         "78"
        ],
        [
         "16",
         "robin hood",
         "Uni.",
         "105300000.0",
         "216400000",
         "2010",
         "tt4532826",
         "Robin Hood",
         "robin hood",
         "2018",
         "116.0",
         "Action,Adventure,Thriller",
         "5.3",
         "41588"
        ],
        [
         "17",
         "the last airbender",
         "Par.",
         "131800000.0",
         "187900000",
         "2010",
         "tt0938283",
         "The Last Airbender",
         "the last airbender",
         "2010",
         "103.0",
         "Action,Adventure,Family",
         "4.1",
         "137734"
        ],
        [
         "18",
         "little fockers",
         "Uni.",
         "148400000.0",
         "162200000",
         "2010",
         "tt0970866",
         "Little Fockers",
         "little fockers",
         "2010",
         "98.0",
         "Comedy,Romance",
         "5.5",
         "99222"
        ],
        [
         "19",
         "resident evil: afterlife",
         "SGem",
         "60100000.0",
         "240100000",
         "2010",
         "tt1220634",
         "Resident Evil: Afterlife",
         "resident evil: afterlife",
         "2010",
         "96.0",
         "Action,Adventure,Horror",
         "5.9",
         "153270"
        ],
        [
         "20",
         "shutter island",
         "Par.",
         "128000000.0",
         "166800000",
         "2010",
         "tt1130884",
         "Shutter Island",
         "shutter island",
         "2010",
         "138.0",
         "Mystery,Thriller",
         "8.1",
         "1005960"
        ],
        [
         "21",
         "salt",
         "Sony",
         "118300000.0",
         "175200000",
         "2010",
         "tt0944835",
         "Salt",
         "salt",
         "2010",
         "100.0",
         "Action,Mystery,Thriller",
         "6.4",
         "277204"
        ],
        [
         "22",
         "sex and the city 2",
         "WB (NL)",
         "95300000.0",
         "193000000",
         "2010",
         "tt1261945",
         "Sex and the City 2",
         "sex and the city 2",
         "2010",
         "146.0",
         "Comedy,Drama,Romance",
         "4.4",
         "69199"
        ],
        [
         "23",
         "the tourist",
         "Sony",
         "67600000.0",
         "210700000",
         "2010",
         "tt1243957",
         "The Tourist",
         "the tourist",
         "2010",
         "103.0",
         "Action,Adventure,Thriller",
         "6.0",
         "206714"
        ],
        [
         "24",
         "the expendables",
         "LGF",
         "103100000.0",
         "171400000",
         "2010",
         "tt1320253",
         "The Expendables",
         "the expendables",
         "2010",
         "103.0",
         "Action,Adventure,Thriller",
         "6.5",
         "307897"
        ],
        [
         "25",
         "grown ups",
         "Sony",
         "162000000.0",
         "109400000",
         "2010",
         "tt1375670",
         "Grown Ups",
         "grown ups",
         "2010",
         "102.0",
         "Comedy",
         "6.0",
         "210377"
        ],
        [
         "26",
         "true grit",
         "Par.",
         "171200000.0",
         "81000000",
         "2010",
         "tt1403865",
         "True Grit",
         "true grit",
         "2010",
         "110.0",
         "Adventure,Drama,Western",
         "7.6",
         "284034"
        ],
        [
         "27",
         "gulliver's travels",
         "Fox",
         "42800000.0",
         "194600000",
         "2010",
         "tt1320261",
         "Gulliver's Travels",
         "gulliver's travels",
         "2010",
         "85.0",
         "Adventure,Comedy,Family",
         "4.9",
         "61178"
        ],
        [
         "28",
         "percy jackson & the olympians: the lightning thief",
         "Fox",
         "88800000.0",
         "137700000",
         "2010",
         "tt0814255",
         "Percy Jackson & the Olympians: The Lightning Thief",
         "percy jackson & the olympians: the lightning thief",
         "2010",
         "118.0",
         "Adventure,Family,Fantasy",
         "5.9",
         "165108"
        ],
        [
         "29",
         "the social network",
         "Sony",
         "97000000.0",
         "128000000",
         "2010",
         "tt1285016",
         "The Social Network",
         "the social network",
         "2010",
         "120.0",
         "Biography,Drama",
         "7.7",
         "568578"
        ],
        [
         "30",
         "valentine's day",
         "WB (NL)",
         "110500000.0",
         "106000000",
         "2010",
         "tt0817230",
         "Valentine's Day",
         "valentine's day",
         "2010",
         "125.0",
         "Comedy,Romance",
         "5.7",
         "107171"
        ],
        [
         "31",
         "the sorcerer's apprentice",
         "BV",
         "63200000.0",
         "152100000",
         "2010",
         "tt0963966",
         "The Sorcerer's Apprentice",
         "the sorcerer's apprentice",
         "2010",
         "109.0",
         "Action,Adventure,Family",
         "6.1",
         "143862"
        ],
        [
         "32",
         "due date",
         "WB",
         "100500000.0",
         "111200000",
         "2010",
         "tt1231583",
         "Due Date",
         "due date",
         "2010",
         "95.0",
         "Adventure,Comedy",
         "6.5",
         "303523"
        ],
        [
         "33",
         "eat pray love",
         "Sony",
         "80600000.0",
         "124000000",
         "2010",
         "tt0879870",
         "Eat Pray Love",
         "eat pray love",
         "2010",
         "133.0",
         "Drama,Romance",
         "5.8",
         "77709"
        ],
        [
         "34",
         "yogi bear",
         "WB",
         "100200000.0",
         "101300000",
         "2010",
         "tt1302067",
         "Yogi Bear",
         "yogi bear",
         "2010",
         "80.0",
         "Adventure,Animation,Comedy",
         "4.6",
         "18934"
        ],
        [
         "35",
         "red",
         "Sum.",
         "90400000.0",
         "108600000",
         "2010",
         "tt1245526",
         "RED",
         "red",
         "2010",
         "111.0",
         "Action,Comedy,Crime",
         "7.1",
         "271570"
        ],
        [
         "36",
         "red",
         "Sum.",
         "90400000.0",
         "108600000",
         "2010",
         "tt4170206",
         "Red",
         "red",
         "2014",
         "107.0",
         "Drama",
         "8.4",
         "8"
        ],
        [
         "37",
         "red",
         "Sum.",
         "90400000.0",
         "108600000",
         "2010",
         "tt8851190",
         "Red",
         "red",
         "2018",
         "90.0",
         "Drama",
         "8.1",
         "26"
        ],
        [
         "38",
         "paranormal activity 2",
         "Par.",
         "84800000.0",
         "92800000",
         "2010",
         "tt1536044",
         "Paranormal Activity 2",
         "paranormal activity 2",
         "2010",
         "91.0",
         "Horror",
         "5.7",
         "93122"
        ],
        [
         "39",
         "the a-team",
         "Fox",
         "77200000.0",
         "100000000",
         "2010",
         "tt0429493",
         "The A-Team",
         "the a-team",
         "2010",
         "117.0",
         "Action,Adventure,Thriller",
         "6.8",
         "235256"
        ],
        [
         "40",
         "the other guys",
         "Sony",
         "119200000.0",
         "51200000",
         "2010",
         "tt1386588",
         "The Other Guys",
         "the other guys",
         "2010",
         "107.0",
         "Action,Comedy,Crime",
         "6.7",
         "221664"
        ],
        [
         "41",
         "unstoppable",
         "Fox",
         "81600000.0",
         "86200000",
         "2010",
         "tt0477080",
         "Unstoppable",
         "unstoppable",
         "2010",
         "98.0",
         "Action,Thriller",
         "6.8",
         "173019"
        ],
        [
         "42",
         "unstoppable",
         "Fox",
         "81600000.0",
         "86200000",
         "2010",
         "tt3070502",
         "Unstoppable",
         "unstoppable",
         "2013",
         "65.0",
         "Documentary",
         "4.3",
         "551"
        ],
        [
         "43",
         "unstoppable",
         "Fox",
         "81600000.0",
         "86200000",
         "2010",
         "tt9906218",
         "Unstoppable",
         "unstoppable",
         "2019",
         "84.0",
         "Documentary",
         "8.1",
         "8"
        ],
        [
         "44",
         "the book of eli",
         "WB",
         "94800000.0",
         "62300000",
         "2010",
         "tt1037705",
         "The Book of Eli",
         "the book of eli",
         "2010",
         "118.0",
         "Action,Adventure,Drama",
         "6.9",
         "271307"
        ],
        [
         "45",
         "the town",
         "WB",
         "92200000.0",
         "61800000",
         "2010",
         "tt0840361",
         "The Town",
         "the town",
         "2010",
         "125.0",
         "Crime,Drama,Thriller",
         "7.6",
         "322524"
        ],
        [
         "46",
         "date night",
         "Fox",
         "98700000.0",
         "53600000",
         "2010",
         "tt1279935",
         "Date Night",
         "date night",
         "2010",
         "88.0",
         "Comedy,Crime,Romance",
         "6.3",
         "144683"
        ],
        [
         "47",
         "legend of the guardians: the owls of ga'hoole",
         "WB",
         "55700000.0",
         "84400000",
         "2010",
         "tt1219342",
         "Legend of the Guardians: The Owls of Ga'Hoole",
         "legend of the guardians: the owls of ga'hoole",
         "2010",
         "97.0",
         "Action,Adventure,Animation",
         "7.0",
         "73790"
        ],
        [
         "48",
         "the wolfman",
         "Uni.",
         "62000000.0",
         "77800000",
         "2010",
         "tt0780653",
         "The Wolfman",
         "the wolfman",
         "2010",
         "103.0",
         "Drama,Fantasy,Horror",
         "5.8",
         "97873"
        ],
        [
         "49",
         "the bounty hunter",
         "Sony",
         "67099999.0",
         "69300000",
         "2010",
         "tt1038919",
         "The Bounty Hunter",
         "the bounty hunter",
         "2010",
         "110.0",
         "Action,Comedy,Romance",
         "5.6",
         "112444"
        ]
       ],
       "shape": {
        "columns": 13,
        "rows": 1565
       }
      },
      "text/html": [
       "<div>\n",
       "<style scoped>\n",
       "    .dataframe tbody tr th:only-of-type {\n",
       "        vertical-align: middle;\n",
       "    }\n",
       "\n",
       "    .dataframe tbody tr th {\n",
       "        vertical-align: top;\n",
       "    }\n",
       "\n",
       "    .dataframe thead th {\n",
       "        text-align: right;\n",
       "    }\n",
       "</style>\n",
       "<table border=\"1\" class=\"dataframe\">\n",
       "  <thead>\n",
       "    <tr style=\"text-align: right;\">\n",
       "      <th></th>\n",
       "      <th>title</th>\n",
       "      <th>studio</th>\n",
       "      <th>domestic_gross</th>\n",
       "      <th>foreign_gross</th>\n",
       "      <th>year</th>\n",
       "      <th>movie_id</th>\n",
       "      <th>primary_title</th>\n",
       "      <th>original_title</th>\n",
       "      <th>start_year</th>\n",
       "      <th>runtime_minutes</th>\n",
       "      <th>genres</th>\n",
       "      <th>averagerating</th>\n",
       "      <th>numvotes</th>\n",
       "    </tr>\n",
       "  </thead>\n",
       "  <tbody>\n",
       "    <tr>\n",
       "      <th>0</th>\n",
       "      <td>toy story 3</td>\n",
       "      <td>BV</td>\n",
       "      <td>415000000.0</td>\n",
       "      <td>652000000</td>\n",
       "      <td>2010</td>\n",
       "      <td>tt0435761</td>\n",
       "      <td>Toy Story 3</td>\n",
       "      <td>toy story 3</td>\n",
       "      <td>2010</td>\n",
       "      <td>103.0</td>\n",
       "      <td>Adventure,Animation,Comedy</td>\n",
       "      <td>8.3</td>\n",
       "      <td>682218</td>\n",
       "    </tr>\n",
       "    <tr>\n",
       "      <th>1</th>\n",
       "      <td>inception</td>\n",
       "      <td>WB</td>\n",
       "      <td>292600000.0</td>\n",
       "      <td>535700000</td>\n",
       "      <td>2010</td>\n",
       "      <td>tt1375666</td>\n",
       "      <td>Inception</td>\n",
       "      <td>inception</td>\n",
       "      <td>2010</td>\n",
       "      <td>148.0</td>\n",
       "      <td>Action,Adventure,Sci-Fi</td>\n",
       "      <td>8.8</td>\n",
       "      <td>1841066</td>\n",
       "    </tr>\n",
       "    <tr>\n",
       "      <th>2</th>\n",
       "      <td>shrek forever after</td>\n",
       "      <td>P/DW</td>\n",
       "      <td>238700000.0</td>\n",
       "      <td>513900000</td>\n",
       "      <td>2010</td>\n",
       "      <td>tt0892791</td>\n",
       "      <td>Shrek Forever After</td>\n",
       "      <td>shrek forever after</td>\n",
       "      <td>2010</td>\n",
       "      <td>93.0</td>\n",
       "      <td>Adventure,Animation,Comedy</td>\n",
       "      <td>6.3</td>\n",
       "      <td>167532</td>\n",
       "    </tr>\n",
       "    <tr>\n",
       "      <th>3</th>\n",
       "      <td>the twilight saga: eclipse</td>\n",
       "      <td>Sum.</td>\n",
       "      <td>300500000.0</td>\n",
       "      <td>398000000</td>\n",
       "      <td>2010</td>\n",
       "      <td>tt1325004</td>\n",
       "      <td>The Twilight Saga: Eclipse</td>\n",
       "      <td>the twilight saga: eclipse</td>\n",
       "      <td>2010</td>\n",
       "      <td>124.0</td>\n",
       "      <td>Adventure,Drama,Fantasy</td>\n",
       "      <td>5.0</td>\n",
       "      <td>211733</td>\n",
       "    </tr>\n",
       "    <tr>\n",
       "      <th>4</th>\n",
       "      <td>iron man 2</td>\n",
       "      <td>Par.</td>\n",
       "      <td>312400000.0</td>\n",
       "      <td>311500000</td>\n",
       "      <td>2010</td>\n",
       "      <td>tt1228705</td>\n",
       "      <td>Iron Man 2</td>\n",
       "      <td>iron man 2</td>\n",
       "      <td>2010</td>\n",
       "      <td>124.0</td>\n",
       "      <td>Action,Adventure,Sci-Fi</td>\n",
       "      <td>7.0</td>\n",
       "      <td>657690</td>\n",
       "    </tr>\n",
       "    <tr>\n",
       "      <th>...</th>\n",
       "      <td>...</td>\n",
       "      <td>...</td>\n",
       "      <td>...</td>\n",
       "      <td>...</td>\n",
       "      <td>...</td>\n",
       "      <td>...</td>\n",
       "      <td>...</td>\n",
       "      <td>...</td>\n",
       "      <td>...</td>\n",
       "      <td>...</td>\n",
       "      <td>...</td>\n",
       "      <td>...</td>\n",
       "      <td>...</td>\n",
       "    </tr>\n",
       "    <tr>\n",
       "      <th>1560</th>\n",
       "      <td>bilal: a new breed of hero</td>\n",
       "      <td>VE</td>\n",
       "      <td>491000.0</td>\n",
       "      <td>1700000</td>\n",
       "      <td>2018</td>\n",
       "      <td>tt3576728</td>\n",
       "      <td>Bilal: A New Breed of Hero</td>\n",
       "      <td>bilal: a new breed of hero</td>\n",
       "      <td>2015</td>\n",
       "      <td>105.0</td>\n",
       "      <td>Action,Adventure,Animation</td>\n",
       "      <td>8.0</td>\n",
       "      <td>16854</td>\n",
       "    </tr>\n",
       "    <tr>\n",
       "      <th>1561</th>\n",
       "      <td>i still see you</td>\n",
       "      <td>LGF</td>\n",
       "      <td>1400.0</td>\n",
       "      <td>1500000</td>\n",
       "      <td>2018</td>\n",
       "      <td>tt2160105</td>\n",
       "      <td>I Still See You</td>\n",
       "      <td>i still see you</td>\n",
       "      <td>2018</td>\n",
       "      <td>98.0</td>\n",
       "      <td>Fantasy,Thriller</td>\n",
       "      <td>5.7</td>\n",
       "      <td>5010</td>\n",
       "    </tr>\n",
       "    <tr>\n",
       "      <th>1562</th>\n",
       "      <td>the catcher was a spy</td>\n",
       "      <td>IFC</td>\n",
       "      <td>725000.0</td>\n",
       "      <td>229000</td>\n",
       "      <td>2018</td>\n",
       "      <td>tt4602066</td>\n",
       "      <td>The Catcher Was a Spy</td>\n",
       "      <td>the catcher was a spy</td>\n",
       "      <td>2018</td>\n",
       "      <td>98.0</td>\n",
       "      <td>Biography,Drama,War</td>\n",
       "      <td>6.2</td>\n",
       "      <td>4653</td>\n",
       "    </tr>\n",
       "    <tr>\n",
       "      <th>1563</th>\n",
       "      <td>time freak</td>\n",
       "      <td>Grindstone</td>\n",
       "      <td>10000.0</td>\n",
       "      <td>256000</td>\n",
       "      <td>2018</td>\n",
       "      <td>tt6769280</td>\n",
       "      <td>Time Freak</td>\n",
       "      <td>time freak</td>\n",
       "      <td>2018</td>\n",
       "      <td>104.0</td>\n",
       "      <td>Comedy,Drama,Romance</td>\n",
       "      <td>5.7</td>\n",
       "      <td>3455</td>\n",
       "    </tr>\n",
       "    <tr>\n",
       "      <th>1564</th>\n",
       "      <td>antonio lopez 1970: sex fashion &amp; disco</td>\n",
       "      <td>FM</td>\n",
       "      <td>43200.0</td>\n",
       "      <td>30000</td>\n",
       "      <td>2018</td>\n",
       "      <td>tt5792490</td>\n",
       "      <td>Antonio Lopez 1970: Sex Fashion &amp; Disco</td>\n",
       "      <td>antonio lopez 1970: sex fashion &amp; disco</td>\n",
       "      <td>2017</td>\n",
       "      <td>95.0</td>\n",
       "      <td>Biography,Documentary</td>\n",
       "      <td>6.5</td>\n",
       "      <td>102</td>\n",
       "    </tr>\n",
       "  </tbody>\n",
       "</table>\n",
       "<p>1565 rows × 13 columns</p>\n",
       "</div>"
      ],
      "text/plain": [
       "                                        title      studio  domestic_gross  \\\n",
       "0                                 toy story 3          BV     415000000.0   \n",
       "1                                   inception          WB     292600000.0   \n",
       "2                         shrek forever after        P/DW     238700000.0   \n",
       "3                  the twilight saga: eclipse        Sum.     300500000.0   \n",
       "4                                  iron man 2        Par.     312400000.0   \n",
       "...                                       ...         ...             ...   \n",
       "1560               bilal: a new breed of hero          VE        491000.0   \n",
       "1561                          i still see you         LGF          1400.0   \n",
       "1562                    the catcher was a spy         IFC        725000.0   \n",
       "1563                               time freak  Grindstone         10000.0   \n",
       "1564  antonio lopez 1970: sex fashion & disco          FM         43200.0   \n",
       "\n",
       "     foreign_gross  year   movie_id                            primary_title  \\\n",
       "0        652000000  2010  tt0435761                              Toy Story 3   \n",
       "1        535700000  2010  tt1375666                                Inception   \n",
       "2        513900000  2010  tt0892791                      Shrek Forever After   \n",
       "3        398000000  2010  tt1325004               The Twilight Saga: Eclipse   \n",
       "4        311500000  2010  tt1228705                               Iron Man 2   \n",
       "...            ...   ...        ...                                      ...   \n",
       "1560       1700000  2018  tt3576728               Bilal: A New Breed of Hero   \n",
       "1561       1500000  2018  tt2160105                          I Still See You   \n",
       "1562        229000  2018  tt4602066                    The Catcher Was a Spy   \n",
       "1563        256000  2018  tt6769280                               Time Freak   \n",
       "1564         30000  2018  tt5792490  Antonio Lopez 1970: Sex Fashion & Disco   \n",
       "\n",
       "                               original_title  start_year  runtime_minutes  \\\n",
       "0                                 toy story 3        2010            103.0   \n",
       "1                                   inception        2010            148.0   \n",
       "2                         shrek forever after        2010             93.0   \n",
       "3                  the twilight saga: eclipse        2010            124.0   \n",
       "4                                  iron man 2        2010            124.0   \n",
       "...                                       ...         ...              ...   \n",
       "1560               bilal: a new breed of hero        2015            105.0   \n",
       "1561                          i still see you        2018             98.0   \n",
       "1562                    the catcher was a spy        2018             98.0   \n",
       "1563                               time freak        2018            104.0   \n",
       "1564  antonio lopez 1970: sex fashion & disco        2017             95.0   \n",
       "\n",
       "                          genres  averagerating  numvotes  \n",
       "0     Adventure,Animation,Comedy            8.3    682218  \n",
       "1        Action,Adventure,Sci-Fi            8.8   1841066  \n",
       "2     Adventure,Animation,Comedy            6.3    167532  \n",
       "3        Adventure,Drama,Fantasy            5.0    211733  \n",
       "4        Action,Adventure,Sci-Fi            7.0    657690  \n",
       "...                          ...            ...       ...  \n",
       "1560  Action,Adventure,Animation            8.0     16854  \n",
       "1561            Fantasy,Thriller            5.7      5010  \n",
       "1562         Biography,Drama,War            6.2      4653  \n",
       "1563        Comedy,Drama,Romance            5.7      3455  \n",
       "1564       Biography,Documentary            6.5       102  \n",
       "\n",
       "[1565 rows x 13 columns]"
      ]
     },
     "execution_count": 99,
     "metadata": {},
     "output_type": "execute_result"
    }
   ],
   "source": [
    "#Merge Box Office with IMDB (inner join on titles)\n",
    "bom_imdb_df = pd.merge(\n",
    "    bom_df, \n",
    "    movies_df, \n",
    "    left_on='title', \n",
    "    right_on='original_title', \n",
    "    how='inner'  # or 'left' if you want to keep all from BOM\n",
    ")\n",
    "bom_imdb_df\n"
   ]
  },
  {
   "cell_type": "code",
   "execution_count": 100,
   "id": "dd4f71aa",
   "metadata": {},
   "outputs": [
    {
     "name": "stdout",
     "output_type": "stream",
     "text": [
      "<class 'pandas.core.frame.DataFrame'>\n",
      "RangeIndex: 1176 entries, 0 to 1175\n",
      "Data columns (total 19 columns):\n",
      " #   Column             Non-Null Count  Dtype  \n",
      "---  ------             --------------  -----  \n",
      " 0   title              1176 non-null   object \n",
      " 1   studio             1176 non-null   object \n",
      " 2   domestic_gross_x   1176 non-null   float64\n",
      " 3   foreign_gross      1176 non-null   object \n",
      " 4   year               1176 non-null   int64  \n",
      " 5   movie_id           1176 non-null   object \n",
      " 6   primary_title      1176 non-null   object \n",
      " 7   original_title     1176 non-null   object \n",
      " 8   start_year         1176 non-null   int64  \n",
      " 9   runtime_minutes    1176 non-null   float64\n",
      " 10  genres             1176 non-null   object \n",
      " 11  averagerating      1176 non-null   float64\n",
      " 12  numvotes           1176 non-null   int64  \n",
      " 13  id                 1176 non-null   int64  \n",
      " 14  release_date       1176 non-null   object \n",
      " 15  movie              1176 non-null   object \n",
      " 16  production_budget  1176 non-null   object \n",
      " 17  domestic_gross_y   1176 non-null   object \n",
      " 18  worldwide_gross    1176 non-null   object \n",
      "dtypes: float64(3), int64(4), object(12)\n",
      "memory usage: 174.7+ KB\n"
     ]
    }
   ],
   "source": [
    "#Merge with TN movie budgets\n",
    "full_df = pd.merge(\n",
    "    bom_imdb_df, \n",
    "    tn_df, \n",
    "    left_on='title', \n",
    "    right_on='movie', \n",
    "    how='inner'  \n",
    ")\n",
    "full_df\n",
    "full_df.info() #see the full_df columns\n"
   ]
  },
  {
   "cell_type": "markdown",
   "id": "c2775ee9",
   "metadata": {},
   "source": [
    "### Selecting relevant columns for analysis\n",
    "* Columns remained with include : **title, year, runtime_minutes, genres, average_rating, release_date, production_budget, domestic_gross and worldwide gross**\n",
    "* Rationale - We establish that these columns are the most relevant in the solutions we aim to provide to the client."
   ]
  },
  {
   "cell_type": "code",
   "execution_count": 101,
   "id": "5fe3d020",
   "metadata": {},
   "outputs": [],
   "source": [
    "full_df.drop(columns = [\"studio\", \"id\", \"movie\", \"domestic_gross_x\", \"foreign_gross\", \"title\", \"movie_id\", \n",
    "                        \"primary_title\", \"original_title\", \"start_year\", \"numvotes\", \"movie\"], inplace = True)\n"
   ]
  },
  {
   "cell_type": "code",
   "execution_count": 102,
   "id": "1e84acb3",
   "metadata": {},
   "outputs": [
    {
     "name": "stdout",
     "output_type": "stream",
     "text": [
      "<class 'pandas.core.frame.DataFrame'>\n",
      "RangeIndex: 1176 entries, 0 to 1175\n",
      "Data columns (total 8 columns):\n",
      " #   Column             Non-Null Count  Dtype  \n",
      "---  ------             --------------  -----  \n",
      " 0   year               1176 non-null   int64  \n",
      " 1   runtime_minutes    1176 non-null   float64\n",
      " 2   genres             1176 non-null   object \n",
      " 3   averagerating      1176 non-null   float64\n",
      " 4   release_date       1176 non-null   object \n",
      " 5   production_budget  1176 non-null   object \n",
      " 6   domestic_gross_y   1176 non-null   object \n",
      " 7   worldwide_gross    1176 non-null   object \n",
      "dtypes: float64(2), int64(1), object(5)\n",
      "memory usage: 73.6+ KB\n"
     ]
    }
   ],
   "source": [
    "full_df.info()"
   ]
  },
  {
   "cell_type": "markdown",
   "id": "d3cae1d2",
   "metadata": {},
   "source": [
    "## 3. Data Analysis"
   ]
  },
  {
   "cell_type": "markdown",
   "id": "64393287",
   "metadata": {},
   "source": [
    "Having cleaned the data, we can begin to analyze it to generate insights\n",
    "## Research Questions:\n",
    "3.1. Do movies with different genres have significantly different average ROI?  \n",
    "3.2. Release Seasons(q1,q2,q3,q4): Which months do movies do best?  \n",
    "3.3. Genre trends: Which genres are most profitable?    \n",
    "3.4. Runtime, Ratings, and Revenue: Is there a correlation between rating or length and revenue?   \n",
    "  \n",
    "\n"
   ]
  },
  {
   "cell_type": "markdown",
   "id": "5ad19f34",
   "metadata": {},
   "source": [
    "### 3.1 Do movies with different genres have significantly different average ROI?"
   ]
  },
  {
   "cell_type": "code",
   "execution_count": 103,
   "id": "fc8c1313",
   "metadata": {},
   "outputs": [
    {
     "name": "stdout",
     "output_type": "stream",
     "text": [
      "<class 'pandas.core.frame.DataFrame'>\n",
      "RangeIndex: 1176 entries, 0 to 1175\n",
      "Data columns (total 8 columns):\n",
      " #   Column             Non-Null Count  Dtype  \n",
      "---  ------             --------------  -----  \n",
      " 0   year               1176 non-null   int64  \n",
      " 1   runtime_minutes    1176 non-null   float64\n",
      " 2   genres             1176 non-null   object \n",
      " 3   averagerating      1176 non-null   float64\n",
      " 4   release_date       1176 non-null   object \n",
      " 5   production_budget  1176 non-null   object \n",
      " 6   domestic_gross_y   1176 non-null   object \n",
      " 7   worldwide_gross    1176 non-null   object \n",
      "dtypes: float64(2), int64(1), object(5)\n",
      "memory usage: 73.6+ KB\n"
     ]
    }
   ],
   "source": [
    "full_df.info()"
   ]
  },
  {
   "cell_type": "code",
   "execution_count": 104,
   "id": "feac0e0c",
   "metadata": {},
   "outputs": [],
   "source": [
    "# define a function to convert the object-type columns to integers\n",
    "def clean_money(value):\n",
    "    return int(value.replace(\"$\", \"\").replace(\",\", \"\"))"
   ]
  },
  {
   "cell_type": "code",
   "execution_count": 105,
   "id": "78f92637",
   "metadata": {},
   "outputs": [
    {
     "name": "stdout",
     "output_type": "stream",
     "text": [
      "<class 'pandas.core.frame.DataFrame'>\n",
      "RangeIndex: 1176 entries, 0 to 1175\n",
      "Data columns (total 8 columns):\n",
      " #   Column             Non-Null Count  Dtype  \n",
      "---  ------             --------------  -----  \n",
      " 0   year               1176 non-null   int64  \n",
      " 1   runtime_minutes    1176 non-null   float64\n",
      " 2   genres             1176 non-null   object \n",
      " 3   averagerating      1176 non-null   float64\n",
      " 4   release_date       1176 non-null   object \n",
      " 5   production_budget  1176 non-null   int64  \n",
      " 6   domestic_gross_y   1176 non-null   object \n",
      " 7   worldwide_gross    1176 non-null   int64  \n",
      "dtypes: float64(2), int64(3), object(3)\n",
      "memory usage: 73.6+ KB\n"
     ]
    }
   ],
   "source": [
    "# cleaning currency columns\n",
    "full_df[\"worldwide_gross\"] = full_df[\"worldwide_gross\"].apply(clean_money)\n",
    "full_df[\"production_budget\"] = full_df[\"production_budget\"].apply(clean_money)\n",
    "\n",
    "full_df.info()  "
   ]
  },
  {
   "cell_type": "code",
   "execution_count": 106,
   "id": "4258213f",
   "metadata": {},
   "outputs": [
    {
     "data": {
      "application/vnd.microsoft.datawrangler.viewer.v0+json": {
       "columns": [
        {
         "name": "index",
         "rawType": "int64",
         "type": "integer"
        },
        {
         "name": "year",
         "rawType": "int64",
         "type": "integer"
        },
        {
         "name": "runtime_minutes",
         "rawType": "float64",
         "type": "float"
        },
        {
         "name": "genres",
         "rawType": "object",
         "type": "string"
        },
        {
         "name": "averagerating",
         "rawType": "float64",
         "type": "float"
        },
        {
         "name": "release_date",
         "rawType": "object",
         "type": "string"
        },
        {
         "name": "production_budget",
         "rawType": "int64",
         "type": "integer"
        },
        {
         "name": "domestic_gross_y",
         "rawType": "object",
         "type": "string"
        },
        {
         "name": "worldwide_gross",
         "rawType": "int64",
         "type": "integer"
        },
        {
         "name": "ROI",
         "rawType": "float64",
         "type": "float"
        }
       ],
       "ref": "d7c8b8e5-cc76-4fc8-8808-dc90a73fdb34",
       "rows": [
        [
         "0",
         "2010",
         "103.0",
         "Adventure,Animation,Comedy",
         "8.3",
         "Jun 18, 2010",
         "200000000",
         "$415,004,880",
         "1068879522",
         "4.34439761"
        ],
        [
         "1",
         "2010",
         "148.0",
         "Action,Adventure,Sci-Fi",
         "8.8",
         "Jul 16, 2010",
         "160000000",
         "$292,576,195",
         "835524642",
         "4.2220290125"
        ],
        [
         "2",
         "2010",
         "93.0",
         "Adventure,Animation,Comedy",
         "6.3",
         "May 21, 2010",
         "165000000",
         "$238,736,787",
         "756244673",
         "3.5833010484848486"
        ],
        [
         "3",
         "2010",
         "124.0",
         "Adventure,Drama,Fantasy",
         "5.0",
         "Jun 30, 2010",
         "68000000",
         "$300,531,751",
         "706102828",
         "9.383865117647058"
        ],
        [
         "4",
         "2010",
         "124.0",
         "Action,Adventure,Sci-Fi",
         "7.0",
         "May 7, 2010",
         "170000000",
         "$312,433,331",
         "621156389",
         "2.653861111764706"
        ]
       ],
       "shape": {
        "columns": 9,
        "rows": 5
       }
      },
      "text/html": [
       "<div>\n",
       "<style scoped>\n",
       "    .dataframe tbody tr th:only-of-type {\n",
       "        vertical-align: middle;\n",
       "    }\n",
       "\n",
       "    .dataframe tbody tr th {\n",
       "        vertical-align: top;\n",
       "    }\n",
       "\n",
       "    .dataframe thead th {\n",
       "        text-align: right;\n",
       "    }\n",
       "</style>\n",
       "<table border=\"1\" class=\"dataframe\">\n",
       "  <thead>\n",
       "    <tr style=\"text-align: right;\">\n",
       "      <th></th>\n",
       "      <th>year</th>\n",
       "      <th>runtime_minutes</th>\n",
       "      <th>genres</th>\n",
       "      <th>averagerating</th>\n",
       "      <th>release_date</th>\n",
       "      <th>production_budget</th>\n",
       "      <th>domestic_gross_y</th>\n",
       "      <th>worldwide_gross</th>\n",
       "      <th>ROI</th>\n",
       "    </tr>\n",
       "  </thead>\n",
       "  <tbody>\n",
       "    <tr>\n",
       "      <th>0</th>\n",
       "      <td>2010</td>\n",
       "      <td>103.0</td>\n",
       "      <td>Adventure,Animation,Comedy</td>\n",
       "      <td>8.3</td>\n",
       "      <td>Jun 18, 2010</td>\n",
       "      <td>200000000</td>\n",
       "      <td>$415,004,880</td>\n",
       "      <td>1068879522</td>\n",
       "      <td>4.344398</td>\n",
       "    </tr>\n",
       "    <tr>\n",
       "      <th>1</th>\n",
       "      <td>2010</td>\n",
       "      <td>148.0</td>\n",
       "      <td>Action,Adventure,Sci-Fi</td>\n",
       "      <td>8.8</td>\n",
       "      <td>Jul 16, 2010</td>\n",
       "      <td>160000000</td>\n",
       "      <td>$292,576,195</td>\n",
       "      <td>835524642</td>\n",
       "      <td>4.222029</td>\n",
       "    </tr>\n",
       "    <tr>\n",
       "      <th>2</th>\n",
       "      <td>2010</td>\n",
       "      <td>93.0</td>\n",
       "      <td>Adventure,Animation,Comedy</td>\n",
       "      <td>6.3</td>\n",
       "      <td>May 21, 2010</td>\n",
       "      <td>165000000</td>\n",
       "      <td>$238,736,787</td>\n",
       "      <td>756244673</td>\n",
       "      <td>3.583301</td>\n",
       "    </tr>\n",
       "    <tr>\n",
       "      <th>3</th>\n",
       "      <td>2010</td>\n",
       "      <td>124.0</td>\n",
       "      <td>Adventure,Drama,Fantasy</td>\n",
       "      <td>5.0</td>\n",
       "      <td>Jun 30, 2010</td>\n",
       "      <td>68000000</td>\n",
       "      <td>$300,531,751</td>\n",
       "      <td>706102828</td>\n",
       "      <td>9.383865</td>\n",
       "    </tr>\n",
       "    <tr>\n",
       "      <th>4</th>\n",
       "      <td>2010</td>\n",
       "      <td>124.0</td>\n",
       "      <td>Action,Adventure,Sci-Fi</td>\n",
       "      <td>7.0</td>\n",
       "      <td>May 7, 2010</td>\n",
       "      <td>170000000</td>\n",
       "      <td>$312,433,331</td>\n",
       "      <td>621156389</td>\n",
       "      <td>2.653861</td>\n",
       "    </tr>\n",
       "  </tbody>\n",
       "</table>\n",
       "</div>"
      ],
      "text/plain": [
       "   year  runtime_minutes                      genres  averagerating  \\\n",
       "0  2010            103.0  Adventure,Animation,Comedy            8.3   \n",
       "1  2010            148.0     Action,Adventure,Sci-Fi            8.8   \n",
       "2  2010             93.0  Adventure,Animation,Comedy            6.3   \n",
       "3  2010            124.0     Adventure,Drama,Fantasy            5.0   \n",
       "4  2010            124.0     Action,Adventure,Sci-Fi            7.0   \n",
       "\n",
       "   release_date  production_budget domestic_gross_y  worldwide_gross       ROI  \n",
       "0  Jun 18, 2010          200000000     $415,004,880       1068879522  4.344398  \n",
       "1  Jul 16, 2010          160000000     $292,576,195        835524642  4.222029  \n",
       "2  May 21, 2010          165000000     $238,736,787        756244673  3.583301  \n",
       "3  Jun 30, 2010           68000000     $300,531,751        706102828  9.383865  \n",
       "4   May 7, 2010          170000000     $312,433,331        621156389  2.653861  "
      ]
     },
     "execution_count": 106,
     "metadata": {},
     "output_type": "execute_result"
    }
   ],
   "source": [
    "# calcute ROI\n",
    "full_df['ROI'] = (full_df['worldwide_gross'] - full_df['production_budget']) / full_df['production_budget']\n",
    "\n",
    "\n",
    "full_df = full_df[(full_df['production_budget'] > 0) & (full_df['worldwide_gross'] > 0)]\n",
    "\n",
    "full_df.head()"
   ]
  },
  {
   "cell_type": "code",
   "execution_count": 107,
   "id": "a7066ddb",
   "metadata": {},
   "outputs": [
    {
     "name": "stdout",
     "output_type": "stream",
     "text": [
      "ANOVA F-statistic: 8.08\n",
      "P-value: 0.00000\n"
     ]
    },
    {
     "data": {
      "image/png": "[encoded data removed]",
      "text/plain": [
       "<Figure size 1200x600 with 1 Axes>"
      ]
     },
     "metadata": {},
     "output_type": "display_data"
    }
   ],
   "source": [
    "from scipy.stats import f_oneway\n",
    "\n",
    "full_df['primary_genre'] = full_df['genres'].apply(lambda x: x.split(',')[0] if pd.notnull(x) else 'Unknown')\n",
    "\n",
    "# ANOVA test\n",
    "roi_by_genre = full_df.groupby('primary_genre')['ROI']\n",
    "roi_lists = [group.dropna().values for name, group in roi_by_genre]\n",
    "f_stat, p_value = f_oneway(*roi_lists)\n",
    "\n",
    "# Print test result\n",
    "print(f\"ANOVA F-statistic: {f_stat:.2f}\")\n",
    "print(f\"P-value: {p_value:.5f}\")\n",
    "\n",
    "# Visualization\n",
    "plt.figure(figsize=(12, 6))\n",
    "sns.boxplot(x='primary_genre', y='ROI', data=full_df)\n",
    "plt.xticks(rotation=45)\n",
    "plt.title('Distribution of ROI by Movie Genre')\n",
    "plt.ylabel('Return on Investment (ROI)')\n",
    "plt.xlabel('Primary Genre')\n",
    "plt.tight_layout()\n",
    "plt.show()"
   ]
  },
  {
   "cell_type": "markdown",
   "id": "01e6e427",
   "metadata": {},
   "source": [
    "Statistical Conclusion\n",
    "- ANOVA F-statistic:  8.08\n",
    "\n",
    "- P-value < 0.00001\n",
    "\n",
    "This means:\n",
    "**There is a statistical signicant difference in ROI between at least some movie genres.**"
   ]
  },
  {
   "cell_type": "markdown",
   "id": "d4428df5",
   "metadata": {},
   "source": [
    "Insights from the Boxplot:\n",
    "- One genre (likely Comedy or Horror based on typical trends) has a much wider ROI range and higher median, with many outliers (potential hits with massive ROI).\n",
    "\n",
    "- Several genres are clustered with low ROI, suggesting low profitability or high risk.\n"
   ]
  },
  {
   "cell_type": "markdown",
   "id": "0fb26b45",
   "metadata": {},
   "source": [
    "### 3.2 Which months do movies do best?"
   ]
  },
  {
   "cell_type": "code",
   "execution_count": 131,
   "id": "78fe2cd8",
   "metadata": {},
   "outputs": [
    {
     "data": {
      "image/png": "[encoded data removed]",
      "text/plain": [
       "<Figure size 800x500 with 1 Axes>"
      ]
     },
     "metadata": {},
     "output_type": "display_data"
    }
   ],
   "source": [
    "# Clean worldwide gross\n",
    "def parse_currency(x):\n",
    "    return float(str(x).replace('$', '').replace(',', '').strip()) if pd.notnull(x) else None\n",
    "\n",
    "full_df['worldwide_gross'] = full_df['worldwide_gross'].apply(parse_currency)\n",
    "\n",
    "# Parse release month from release_date\n",
    "full_df['release_date'] = pd.to_datetime(full_df['release_date'], errors='coerce')\n",
    "full_df['release_month'] = full_df['release_date'].dt.month\n",
    "\n",
    "# Map months to quarters\n",
    "def month_to_quarter(month):\n",
    "    if month in [1, 2, 3]: return 'Q1'\n",
    "    elif month in [4, 5, 6]: return 'Q2'\n",
    "    elif month in [7, 8, 9]: return 'Q3'\n",
    "    elif month in [10, 11, 12]: return 'Q4'\n",
    "    else: return 'Unknown'\n",
    "\n",
    "full_df['release_quarter'] = full_df['release_month'].apply(month_to_quarter)\n",
    "\n",
    "# Drop missing values\n",
    "full_df = full_df.dropna(subset=['worldwide_gross', 'release_quarter'])\n",
    "\n",
    "# Group by quarter and calculate mean revenue\n",
    "revenue_by_quarter = full_df.groupby('release_quarter')['worldwide_gross'].mean().reindex(['Q1', 'Q2', 'Q3', 'Q4'])\n",
    "\n",
    "# Plot results\n",
    "plt.figure(figsize=(8, 5))\n",
    "sns.barplot(x=revenue_by_quarter.index, y=revenue_by_quarter.values, hue=revenue_by_quarter.index, palette='viridis', legend=False)\n",
    "plt.title('Average Worldwide Gross by Release Quarter')\n",
    "plt.ylabel('Average Worldwide Gross ($)')\n",
    "plt.xlabel('Release Quarter')\n",
    "plt.tight_layout()\n",
    "plt.show()"
   ]
  },
  {
   "cell_type": "markdown",
   "id": "b1670ad7",
   "metadata": {},
   "source": [
    "From the bar chart above:\n",
    "* Q2 (April–June) has the highest average worldwide gross, standing out as the most profitable release window.\n",
    "* Q1 (Jan–Mar) and Q3 (Jul–Sep) show lower average gross figures.\n",
    "* Q4 (Oct–Dec) performs better than Q1 and Q3 but still trails Q2."
   ]
  },
  {
   "cell_type": "markdown",
   "id": "d0492691",
   "metadata": {},
   "source": [
    "### 3.3. Genre trends: Which genres are most profitable?"
   ]
  },
  {
   "cell_type": "markdown",
   "id": "402a04b8",
   "metadata": {},
   "source": [
    "#### a) To determine profitability, it is important to derive each genre's profits by subtracting the production budget from its world_wide gross"
   ]
  },
  {
   "cell_type": "code",
   "execution_count": 109,
   "id": "5af92580",
   "metadata": {},
   "outputs": [],
   "source": [
    "# Profit calculation\n",
    "full_df['profit'] = (full_df['worldwide_gross'] - full_df['production_budget'])"
   ]
  },
  {
   "cell_type": "code",
   "execution_count": 126,
   "id": "adac3549",
   "metadata": {},
   "outputs": [
    {
     "data": {
      "application/vnd.microsoft.datawrangler.viewer.v0+json": {
       "columns": [
        {
         "name": "index",
         "rawType": "int64",
         "type": "integer"
        },
        {
         "name": "year",
         "rawType": "int64",
         "type": "integer"
        },
        {
         "name": "runtime_minutes",
         "rawType": "float64",
         "type": "float"
        },
        {
         "name": "genres",
         "rawType": "object",
         "type": "unknown"
        },
        {
         "name": "averagerating",
         "rawType": "float64",
         "type": "float"
        },
        {
         "name": "release_date",
         "rawType": "datetime64[ns]",
         "type": "datetime"
        },
        {
         "name": "production_budget",
         "rawType": "int64",
         "type": "integer"
        },
        {
         "name": "domestic_gross_y",
         "rawType": "int64",
         "type": "integer"
        },
        {
         "name": "worldwide_gross",
         "rawType": "int64",
         "type": "integer"
        },
        {
         "name": "ROI",
         "rawType": "float64",
         "type": "float"
        },
        {
         "name": "primary_genre",
         "rawType": "object",
         "type": "string"
        },
        {
         "name": "release_month",
         "rawType": "int32",
         "type": "integer"
        },
        {
         "name": "release_quarter",
         "rawType": "object",
         "type": "string"
        },
        {
         "name": "profit",
         "rawType": "int64",
         "type": "integer"
        }
       ],
       "ref": "3a16902c-5d0a-457d-82ab-493e8cb73cd4",
       "rows": [
        [
         "0",
         "2010",
         "103.0",
         "['Adventure', 'Animation', 'Comedy']",
         "8.3",
         "2010-06-18 00:00:00",
         "200000000",
         "415004880",
         "1068879522",
         "4.34439761",
         "Adventure",
         "6",
         "Q2",
         "868879522"
        ],
        [
         "1",
         "2010",
         "148.0",
         "['Action', 'Adventure', 'Sci-Fi']",
         "8.8",
         "2010-07-16 00:00:00",
         "160000000",
         "292576195",
         "835524642",
         "4.2220290125",
         "Action",
         "7",
         "Q3",
         "675524642"
        ],
        [
         "2",
         "2010",
         "93.0",
         "['Adventure', 'Animation', 'Comedy']",
         "6.3",
         "2010-05-21 00:00:00",
         "165000000",
         "238736787",
         "756244673",
         "3.5833010484848486",
         "Adventure",
         "5",
         "Q2",
         "591244673"
        ],
        [
         "3",
         "2010",
         "124.0",
         "['Adventure', 'Drama', 'Fantasy']",
         "5.0",
         "2010-06-30 00:00:00",
         "68000000",
         "300531751",
         "706102828",
         "9.383865117647058",
         "Adventure",
         "6",
         "Q2",
         "638102828"
        ],
        [
         "4",
         "2010",
         "124.0",
         "['Action', 'Adventure', 'Sci-Fi']",
         "7.0",
         "2010-05-07 00:00:00",
         "170000000",
         "312433331",
         "621156389",
         "2.653861111764706",
         "Action",
         "5",
         "Q2",
         "451156389"
        ],
        [
         "5",
         "2010",
         "100.0",
         "['Adventure', 'Animation', 'Comedy']",
         "7.8",
         "2010-11-24 00:00:00",
         "260000000",
         "200821936",
         "586477240",
         "1.2556816923076923",
         "Adventure",
         "11",
         "Q4",
         "326477240"
        ],
        [
         "6",
         "2010",
         "95.0",
         "['Animation', 'Comedy', 'Family']",
         "7.7",
         "2010-07-09 00:00:00",
         "69000000",
         "251513985",
         "543464573",
         "6.87629815942029",
         "Animation",
         "7",
         "Q3",
         "474464573"
        ],
        [
         "7",
         "2010",
         "98.0",
         "['Action', 'Adventure', 'Animation']",
         "8.1",
         "2010-03-26 00:00:00",
         "165000000",
         "217581232",
         "494870992",
         "1.9992181333333334",
         "Action",
         "3",
         "Q1",
         "329870992"
        ],
        [
         "8",
         "2010",
         "113.0",
         "['Adventure', 'Family', 'Fantasy']",
         "6.3",
         "2010-12-10 00:00:00",
         "155000000",
         "104386950",
         "418186950",
         "1.6979803225806451",
         "Adventure",
         "12",
         "Q4",
         "263186950"
        ],
        [
         "9",
         "2010",
         "140.0",
         "['Action', 'Drama', 'Family']",
         "6.2",
         "2010-06-11 00:00:00",
         "40000000",
         "176591618",
         "351774938",
         "7.79437345",
         "Action",
         "6",
         "Q2",
         "311774938"
        ],
        [
         "10",
         "2010",
         "140.0",
         "['Action', 'Drama', 'Family']",
         "6.2",
         "1984-06-22 00:00:00",
         "8000000",
         "90815558",
         "90815558",
         "10.35194475",
         "Action",
         "6",
         "Q2",
         "82815558"
        ],
        [
         "11",
         "2010",
         "108.0",
         "['Drama', 'Thriller']",
         "8.0",
         "2010-12-03 00:00:00",
         "13000000",
         "106954678",
         "331266710",
         "24.482054615384616",
         "Drama",
         "12",
         "Q4",
         "318266710"
        ],
        [
         "12",
         "2010",
         "95.0",
         "['Action', 'Animation', 'Comedy']",
         "7.3",
         "2010-11-05 00:00:00",
         "130000000",
         "148415853",
         "321887208",
         "1.4760554461538462",
         "Action",
         "11",
         "Q4",
         "191887208"
        ],
        [
         "13",
         "2010",
         "140.0",
         "['Action', 'Adventure', 'Drama']",
         "6.6",
         "2010-05-14 00:00:00",
         "210000000",
         "105487148",
         "322459006",
         "0.5355190761904762",
         "Action",
         "5",
         "Q2",
         "112459006"
        ],
        [
         "14",
         "2010",
         "140.0",
         "['Action', 'Adventure', 'Drama']",
         "6.6",
         "2018-11-21 00:00:00",
         "99000000",
         "30824628",
         "84747441",
         "-0.1439652424242424",
         "Action",
         "11",
         "Q4",
         "-14252559"
        ],
        [
         "15",
         "2010",
         "92.0",
         "['Action', 'Drama']",
         "6.3",
         "2010-05-14 00:00:00",
         "210000000",
         "105487148",
         "322459006",
         "0.5355190761904762",
         "Action",
         "5",
         "Q2",
         "112459006"
        ],
        [
         "16",
         "2010",
         "92.0",
         "['Action', 'Drama']",
         "6.3",
         "2018-11-21 00:00:00",
         "99000000",
         "30824628",
         "84747441",
         "-0.1439652424242424",
         "Action",
         "11",
         "Q4",
         "-14252559"
        ],
        [
         "17",
         "2010",
         "116.0",
         "['Action', 'Adventure', 'Thriller']",
         "5.3",
         "2010-05-14 00:00:00",
         "210000000",
         "105487148",
         "322459006",
         "0.5355190761904762",
         "Action",
         "5",
         "Q2",
         "112459006"
        ],
        [
         "18",
         "2010",
         "116.0",
         "['Action', 'Adventure', 'Thriller']",
         "5.3",
         "2018-11-21 00:00:00",
         "99000000",
         "30824628",
         "84747441",
         "-0.1439652424242424",
         "Action",
         "11",
         "Q4",
         "-14252559"
        ],
        [
         "19",
         "2010",
         "103.0",
         "['Action', 'Adventure', 'Family']",
         "4.1",
         "2010-07-01 00:00:00",
         "150000000",
         "131772187",
         "319713881",
         "1.1314258733333333",
         "Action",
         "7",
         "Q3",
         "169713881"
        ],
        [
         "20",
         "2010",
         "98.0",
         "['Comedy', 'Romance']",
         "5.5",
         "2010-12-22 00:00:00",
         "100000000",
         "148438600",
         "310650574",
         "2.10650574",
         "Comedy",
         "12",
         "Q4",
         "210650574"
        ],
        [
         "21",
         "2010",
         "96.0",
         "['Action', 'Adventure', 'Horror']",
         "5.9",
         "2010-09-10 00:00:00",
         "57500000",
         "60128566",
         "295874190",
         "4.145638086956522",
         "Action",
         "9",
         "Q3",
         "238374190"
        ],
        [
         "22",
         "2010",
         "138.0",
         "['Mystery', 'Thriller']",
         "8.1",
         "2010-02-19 00:00:00",
         "80000000",
         "128012934",
         "299461782",
         "2.743272275",
         "Mystery",
         "2",
         "Q1",
         "219461782"
        ],
        [
         "23",
         "2010",
         "100.0",
         "['Action', 'Mystery', 'Thriller']",
         "6.4",
         "2010-07-23 00:00:00",
         "130000000",
         "118311368",
         "290650494",
         "1.2357730307692307",
         "Action",
         "7",
         "Q3",
         "160650494"
        ],
        [
         "24",
         "2010",
         "146.0",
         "['Comedy', 'Drama', 'Romance']",
         "4.4",
         "2010-05-27 00:00:00",
         "95000000",
         "95347692",
         "294680778",
         "2.1019029263157893",
         "Comedy",
         "5",
         "Q2",
         "199680778"
        ],
        [
         "25",
         "2010",
         "103.0",
         "['Action', 'Adventure', 'Thriller']",
         "6.0",
         "2010-12-10 00:00:00",
         "100000000",
         "67631157",
         "278731369",
         "1.78731369",
         "Action",
         "12",
         "Q4",
         "178731369"
        ],
        [
         "26",
         "2010",
         "103.0",
         "['Action', 'Adventure', 'Thriller']",
         "6.5",
         "2010-08-13 00:00:00",
         "82000000",
         "103068524",
         "268268174",
         "2.2715630975609757",
         "Action",
         "8",
         "Q3",
         "186268174"
        ],
        [
         "27",
         "2010",
         "102.0",
         "['Comedy']",
         "6.0",
         "2010-06-25 00:00:00",
         "75000000",
         "162001186",
         "272223430",
         "2.629645733333333",
         "Comedy",
         "6",
         "Q2",
         "197223430"
        ],
        [
         "28",
         "2010",
         "110.0",
         "['Adventure', 'Drama', 'Western']",
         "7.6",
         "2010-12-22 00:00:00",
         "35000000",
         "171243005",
         "252276928",
         "6.207912228571429",
         "Adventure",
         "12",
         "Q4",
         "217276928"
        ],
        [
         "29",
         "2010",
         "85.0",
         "['Adventure', 'Comedy', 'Family']",
         "4.9",
         "2010-12-25 00:00:00",
         "112000000",
         "42779261",
         "232017848",
         "1.0715879285714285",
         "Adventure",
         "12",
         "Q4",
         "120017848"
        ],
        [
         "30",
         "2010",
         "118.0",
         "['Adventure', 'Family', 'Fantasy']",
         "5.9",
         "2010-02-12 00:00:00",
         "95000000",
         "88768303",
         "223050874",
         "1.3479039368421053",
         "Adventure",
         "2",
         "Q1",
         "128050874"
        ],
        [
         "31",
         "2010",
         "120.0",
         "['Biography', 'Drama']",
         "7.7",
         "2010-10-01 00:00:00",
         "40000000",
         "96962694",
         "224922135",
         "4.623053375",
         "Biography",
         "10",
         "Q4",
         "184922135"
        ],
        [
         "32",
         "2010",
         "125.0",
         "['Comedy', 'Romance']",
         "5.7",
         "2010-02-12 00:00:00",
         "52000000",
         "110485654",
         "217569328",
         "3.1840255384615386",
         "Comedy",
         "2",
         "Q1",
         "165569328"
        ],
        [
         "33",
         "2010",
         "109.0",
         "['Action', 'Adventure', 'Family']",
         "6.1",
         "2010-07-14 00:00:00",
         "160000000",
         "63150991",
         "217986320",
         "0.3624145",
         "Action",
         "7",
         "Q3",
         "57986320"
        ],
        [
         "34",
         "2010",
         "95.0",
         "['Adventure', 'Comedy']",
         "6.5",
         "2010-11-05 00:00:00",
         "65000000",
         "100539043",
         "211739043",
         "2.2575237384615385",
         "Adventure",
         "11",
         "Q4",
         "146739043"
        ],
        [
         "35",
         "2010",
         "133.0",
         "['Drama', 'Romance']",
         "5.8",
         "2010-08-13 00:00:00",
         "60000000",
         "80574010",
         "206598789",
         "2.44331315",
         "Drama",
         "8",
         "Q3",
         "146598789"
        ],
        [
         "36",
         "2010",
         "80.0",
         "['Adventure', 'Animation', 'Comedy']",
         "4.6",
         "2010-12-17 00:00:00",
         "80000000",
         "100246011",
         "204774690",
         "1.559683625",
         "Adventure",
         "12",
         "Q4",
         "124774690"
        ],
        [
         "37",
         "2010",
         "111.0",
         "['Action', 'Comedy', 'Crime']",
         "7.1",
         "2010-10-15 00:00:00",
         "60000000",
         "90380162",
         "196439693",
         "2.273994883333333",
         "Action",
         "10",
         "Q4",
         "136439693"
        ],
        [
         "38",
         "2010",
         "107.0",
         "['Drama']",
         "8.4",
         "2010-10-15 00:00:00",
         "60000000",
         "90380162",
         "196439693",
         "2.273994883333333",
         "Drama",
         "10",
         "Q4",
         "136439693"
        ],
        [
         "39",
         "2010",
         "90.0",
         "['Drama']",
         "8.1",
         "2010-10-15 00:00:00",
         "60000000",
         "90380162",
         "196439693",
         "2.273994883333333",
         "Drama",
         "10",
         "Q4",
         "136439693"
        ],
        [
         "40",
         "2010",
         "91.0",
         "['Horror']",
         "5.7",
         "2010-10-20 00:00:00",
         "3000000",
         "84752907",
         "177512032",
         "58.17067733333333",
         "Horror",
         "10",
         "Q4",
         "174512032"
        ],
        [
         "41",
         "2010",
         "117.0",
         "['Action', 'Adventure', 'Thriller']",
         "6.8",
         "2010-06-11 00:00:00",
         "110000000",
         "77222099",
         "177241171",
         "0.6112833727272727",
         "Action",
         "6",
         "Q2",
         "67241171"
        ],
        [
         "42",
         "2010",
         "107.0",
         "['Action', 'Comedy', 'Crime']",
         "6.7",
         "2010-08-06 00:00:00",
         "100000000",
         "119219978",
         "170936470",
         "0.7093647",
         "Action",
         "8",
         "Q3",
         "70936470"
        ],
        [
         "43",
         "2010",
         "98.0",
         "['Action', 'Thriller']",
         "6.8",
         "2010-11-12 00:00:00",
         "95000000",
         "81562942",
         "165720921",
         "0.7444307473684211",
         "Action",
         "11",
         "Q4",
         "70720921"
        ],
        [
         "44",
         "2010",
         "65.0",
         "['Documentary']",
         "4.3",
         "2010-11-12 00:00:00",
         "95000000",
         "81562942",
         "165720921",
         "0.7444307473684211",
         "Documentary",
         "11",
         "Q4",
         "70720921"
        ],
        [
         "45",
         "2010",
         "84.0",
         "['Documentary']",
         "8.1",
         "2010-11-12 00:00:00",
         "95000000",
         "81562942",
         "165720921",
         "0.7444307473684211",
         "Documentary",
         "11",
         "Q4",
         "70720921"
        ],
        [
         "46",
         "2010",
         "118.0",
         "['Action', 'Adventure', 'Drama']",
         "6.9",
         "2010-01-15 00:00:00",
         "80000000",
         "94835059",
         "158750817",
         "0.9843852125",
         "Action",
         "1",
         "Q1",
         "78750817"
        ],
        [
         "47",
         "2010",
         "125.0",
         "['Crime', 'Drama', 'Thriller']",
         "7.6",
         "2010-09-17 00:00:00",
         "37000000",
         "92186262",
         "152566881",
         "3.1234292162162163",
         "Crime",
         "9",
         "Q3",
         "115566881"
        ],
        [
         "48",
         "2010",
         "88.0",
         "['Comedy', 'Crime', 'Romance']",
         "6.3",
         "2010-04-09 00:00:00",
         "55000000",
         "98711404",
         "152269033",
         "1.7685278727272726",
         "Comedy",
         "4",
         "Q2",
         "97269033"
        ],
        [
         "49",
         "2010",
         "97.0",
         "['Action', 'Adventure', 'Animation']",
         "7.0",
         "2010-09-24 00:00:00",
         "100000000",
         "55675313",
         "139716717",
         "0.39716717",
         "Action",
         "9",
         "Q3",
         "39716717"
        ]
       ],
       "shape": {
        "columns": 13,
        "rows": 1174
       }
      },
      "text/html": [
       "<div>\n",
       "<style scoped>\n",
       "    .dataframe tbody tr th:only-of-type {\n",
       "        vertical-align: middle;\n",
       "    }\n",
       "\n",
       "    .dataframe tbody tr th {\n",
       "        vertical-align: top;\n",
       "    }\n",
       "\n",
       "    .dataframe thead th {\n",
       "        text-align: right;\n",
       "    }\n",
       "</style>\n",
       "<table border=\"1\" class=\"dataframe\">\n",
       "  <thead>\n",
       "    <tr style=\"text-align: right;\">\n",
       "      <th></th>\n",
       "      <th>year</th>\n",
       "      <th>runtime_minutes</th>\n",
       "      <th>genres</th>\n",
       "      <th>averagerating</th>\n",
       "      <th>release_date</th>\n",
       "      <th>production_budget</th>\n",
       "      <th>domestic_gross_y</th>\n",
       "      <th>worldwide_gross</th>\n",
       "      <th>ROI</th>\n",
       "      <th>primary_genre</th>\n",
       "      <th>release_month</th>\n",
       "      <th>release_quarter</th>\n",
       "      <th>profit</th>\n",
       "    </tr>\n",
       "  </thead>\n",
       "  <tbody>\n",
       "    <tr>\n",
       "      <th>0</th>\n",
       "      <td>2010</td>\n",
       "      <td>103.0</td>\n",
       "      <td>[Adventure, Animation, Comedy]</td>\n",
       "      <td>8.3</td>\n",
       "      <td>2010-06-18</td>\n",
       "      <td>200000000</td>\n",
       "      <td>415004880</td>\n",
       "      <td>1068879522</td>\n",
       "      <td>4.344398</td>\n",
       "      <td>Adventure</td>\n",
       "      <td>6</td>\n",
       "      <td>Q2</td>\n",
       "      <td>868879522</td>\n",
       "    </tr>\n",
       "    <tr>\n",
       "      <th>1</th>\n",
       "      <td>2010</td>\n",
       "      <td>148.0</td>\n",
       "      <td>[Action, Adventure, Sci-Fi]</td>\n",
       "      <td>8.8</td>\n",
       "      <td>2010-07-16</td>\n",
       "      <td>160000000</td>\n",
       "      <td>292576195</td>\n",
       "      <td>835524642</td>\n",
       "      <td>4.222029</td>\n",
       "      <td>Action</td>\n",
       "      <td>7</td>\n",
       "      <td>Q3</td>\n",
       "      <td>675524642</td>\n",
       "    </tr>\n",
       "    <tr>\n",
       "      <th>2</th>\n",
       "      <td>2010</td>\n",
       "      <td>93.0</td>\n",
       "      <td>[Adventure, Animation, Comedy]</td>\n",
       "      <td>6.3</td>\n",
       "      <td>2010-05-21</td>\n",
       "      <td>165000000</td>\n",
       "      <td>238736787</td>\n",
       "      <td>756244673</td>\n",
       "      <td>3.583301</td>\n",
       "      <td>Adventure</td>\n",
       "      <td>5</td>\n",
       "      <td>Q2</td>\n",
       "      <td>591244673</td>\n",
       "    </tr>\n",
       "    <tr>\n",
       "      <th>3</th>\n",
       "      <td>2010</td>\n",
       "      <td>124.0</td>\n",
       "      <td>[Adventure, Drama, Fantasy]</td>\n",
       "      <td>5.0</td>\n",
       "      <td>2010-06-30</td>\n",
       "      <td>68000000</td>\n",
       "      <td>300531751</td>\n",
       "      <td>706102828</td>\n",
       "      <td>9.383865</td>\n",
       "      <td>Adventure</td>\n",
       "      <td>6</td>\n",
       "      <td>Q2</td>\n",
       "      <td>638102828</td>\n",
       "    </tr>\n",
       "    <tr>\n",
       "      <th>4</th>\n",
       "      <td>2010</td>\n",
       "      <td>124.0</td>\n",
       "      <td>[Action, Adventure, Sci-Fi]</td>\n",
       "      <td>7.0</td>\n",
       "      <td>2010-05-07</td>\n",
       "      <td>170000000</td>\n",
       "      <td>312433331</td>\n",
       "      <td>621156389</td>\n",
       "      <td>2.653861</td>\n",
       "      <td>Action</td>\n",
       "      <td>5</td>\n",
       "      <td>Q2</td>\n",
       "      <td>451156389</td>\n",
       "    </tr>\n",
       "    <tr>\n",
       "      <th>...</th>\n",
       "      <td>...</td>\n",
       "      <td>...</td>\n",
       "      <td>...</td>\n",
       "      <td>...</td>\n",
       "      <td>...</td>\n",
       "      <td>...</td>\n",
       "      <td>...</td>\n",
       "      <td>...</td>\n",
       "      <td>...</td>\n",
       "      <td>...</td>\n",
       "      <td>...</td>\n",
       "      <td>...</td>\n",
       "      <td>...</td>\n",
       "    </tr>\n",
       "    <tr>\n",
       "      <th>1171</th>\n",
       "      <td>2018</td>\n",
       "      <td>45.0</td>\n",
       "      <td>[Drama, Music]</td>\n",
       "      <td>8.6</td>\n",
       "      <td>2018-08-31</td>\n",
       "      <td>30000000</td>\n",
       "      <td>5718096</td>\n",
       "      <td>10096821</td>\n",
       "      <td>-0.663439</td>\n",
       "      <td>Drama</td>\n",
       "      <td>8</td>\n",
       "      <td>Q3</td>\n",
       "      <td>-19903179</td>\n",
       "    </tr>\n",
       "    <tr>\n",
       "      <th>1172</th>\n",
       "      <td>2018</td>\n",
       "      <td>102.0</td>\n",
       "      <td>[Action, Drama, Sci-Fi]</td>\n",
       "      <td>5.7</td>\n",
       "      <td>2018-08-31</td>\n",
       "      <td>30000000</td>\n",
       "      <td>5718096</td>\n",
       "      <td>10096821</td>\n",
       "      <td>-0.663439</td>\n",
       "      <td>Action</td>\n",
       "      <td>8</td>\n",
       "      <td>Q3</td>\n",
       "      <td>-19903179</td>\n",
       "    </tr>\n",
       "    <tr>\n",
       "      <th>1173</th>\n",
       "      <td>2018</td>\n",
       "      <td>152.0</td>\n",
       "      <td>[Fantasy, Horror, Mystery]</td>\n",
       "      <td>6.8</td>\n",
       "      <td>2018-10-26</td>\n",
       "      <td>20000000</td>\n",
       "      <td>2483472</td>\n",
       "      <td>7034615</td>\n",
       "      <td>-0.648269</td>\n",
       "      <td>Fantasy</td>\n",
       "      <td>10</td>\n",
       "      <td>Q4</td>\n",
       "      <td>-12965385</td>\n",
       "    </tr>\n",
       "    <tr>\n",
       "      <th>1174</th>\n",
       "      <td>2018</td>\n",
       "      <td>121.0</td>\n",
       "      <td>[Action, Crime, Drama]</td>\n",
       "      <td>6.2</td>\n",
       "      <td>2018-12-25</td>\n",
       "      <td>9000000</td>\n",
       "      <td>1533324</td>\n",
       "      <td>3681096</td>\n",
       "      <td>-0.590989</td>\n",
       "      <td>Action</td>\n",
       "      <td>12</td>\n",
       "      <td>Q4</td>\n",
       "      <td>-5318904</td>\n",
       "    </tr>\n",
       "    <tr>\n",
       "      <th>1175</th>\n",
       "      <td>2018</td>\n",
       "      <td>105.0</td>\n",
       "      <td>[Action, Adventure, Animation]</td>\n",
       "      <td>8.0</td>\n",
       "      <td>2018-02-02</td>\n",
       "      <td>30000000</td>\n",
       "      <td>490973</td>\n",
       "      <td>648599</td>\n",
       "      <td>-0.978380</td>\n",
       "      <td>Action</td>\n",
       "      <td>2</td>\n",
       "      <td>Q1</td>\n",
       "      <td>-29351401</td>\n",
       "    </tr>\n",
       "  </tbody>\n",
       "</table>\n",
       "<p>1174 rows × 13 columns</p>\n",
       "</div>"
      ],
      "text/plain": [
       "      year  runtime_minutes                          genres  averagerating  \\\n",
       "0     2010            103.0  [Adventure, Animation, Comedy]            8.3   \n",
       "1     2010            148.0     [Action, Adventure, Sci-Fi]            8.8   \n",
       "2     2010             93.0  [Adventure, Animation, Comedy]            6.3   \n",
       "3     2010            124.0     [Adventure, Drama, Fantasy]            5.0   \n",
       "4     2010            124.0     [Action, Adventure, Sci-Fi]            7.0   \n",
       "...    ...              ...                             ...            ...   \n",
       "1171  2018             45.0                  [Drama, Music]            8.6   \n",
       "1172  2018            102.0         [Action, Drama, Sci-Fi]            5.7   \n",
       "1173  2018            152.0      [Fantasy, Horror, Mystery]            6.8   \n",
       "1174  2018            121.0          [Action, Crime, Drama]            6.2   \n",
       "1175  2018            105.0  [Action, Adventure, Animation]            8.0   \n",
       "\n",
       "     release_date  production_budget  domestic_gross_y  worldwide_gross  \\\n",
       "0      2010-06-18          200000000         415004880       1068879522   \n",
       "1      2010-07-16          160000000         292576195        835524642   \n",
       "2      2010-05-21          165000000         238736787        756244673   \n",
       "3      2010-06-30           68000000         300531751        706102828   \n",
       "4      2010-05-07          170000000         312433331        621156389   \n",
       "...           ...                ...               ...              ...   \n",
       "1171   2018-08-31           30000000           5718096         10096821   \n",
       "1172   2018-08-31           30000000           5718096         10096821   \n",
       "1173   2018-10-26           20000000           2483472          7034615   \n",
       "1174   2018-12-25            9000000           1533324          3681096   \n",
       "1175   2018-02-02           30000000            490973           648599   \n",
       "\n",
       "           ROI primary_genre  release_month release_quarter     profit  \n",
       "0     4.344398     Adventure              6              Q2  868879522  \n",
       "1     4.222029        Action              7              Q3  675524642  \n",
       "2     3.583301     Adventure              5              Q2  591244673  \n",
       "3     9.383865     Adventure              6              Q2  638102828  \n",
       "4     2.653861        Action              5              Q2  451156389  \n",
       "...        ...           ...            ...             ...        ...  \n",
       "1171 -0.663439         Drama              8              Q3  -19903179  \n",
       "1172 -0.663439        Action              8              Q3  -19903179  \n",
       "1173 -0.648269       Fantasy             10              Q4  -12965385  \n",
       "1174 -0.590989        Action             12              Q4   -5318904  \n",
       "1175 -0.978380        Action              2              Q1  -29351401  \n",
       "\n",
       "[1174 rows x 13 columns]"
      ]
     },
     "execution_count": 126,
     "metadata": {},
     "output_type": "execute_result"
    }
   ],
   "source": [
    "#create a profit only column based on worldwide_gross \n",
    "\n",
    "#define a function to convert the object-type columns to integers\n",
    "def clean_money(value):\n",
    "    if pd.isna(value):\n",
    "        return 0\n",
    "    try:\n",
    "        return int(float(str(value).replace(\"$\", \"\").replace(\",\", \"\")))\n",
    "    except ValueError:\n",
    "        print(f\"Invalid value: {value}\")\n",
    "        return 0\n",
    "    \n",
    "#apply the function to production_budget, worldwide_gross, and domestic_gross_y\n",
    "full_df['production_budget'] = full_df['production_budget'].apply(clean_money)\n",
    "full_df['worldwide_gross'] = full_df['worldwide_gross'].apply(clean_money)\n",
    "full_df['domestic_gross_y'] = full_df['domestic_gross_y'].apply(clean_money)\n",
    "\n",
    "#calculate actual profit by substracting production budget from summed worldwide and domestic gross\n",
    "full_df['profit'] = full_df['worldwide_gross'] - full_df['production_budget']\n",
    "\n",
    "#call the full_df variable to see profit column\n",
    "full_df"
   ]
  },
  {
   "cell_type": "markdown",
   "id": "3e3f3d04",
   "metadata": {},
   "source": [
    "#### a) Each movie has multiple genres, thus, exploding the genres to treat and vizualize each separately and deliver insights"
   ]
  },
  {
   "cell_type": "code",
   "execution_count": 113,
   "id": "6ec0fac0",
   "metadata": {},
   "outputs": [
    {
     "name": "stdout",
     "output_type": "stream",
     "text": [
      "0    Adventure,Animation,Comedy\n",
      "1       Action,Adventure,Sci-Fi\n",
      "2    Adventure,Animation,Comedy\n",
      "3       Adventure,Drama,Fantasy\n",
      "4       Action,Adventure,Sci-Fi\n",
      "Name: genres, dtype: object\n",
      "[<class 'str'>]\n"
     ]
    }
   ],
   "source": [
    "#Confirm original genres column is a string before splitting:\n",
    "print(full_df['genres'].head())\n",
    "print(full_df['genres'].apply(type).unique())"
   ]
  },
  {
   "cell_type": "code",
   "execution_count": 114,
   "id": "dbd62147",
   "metadata": {},
   "outputs": [],
   "source": [
    "#clean and fill missing values before splitting\n",
    "full_df['genres'] = full_df['genres'].fillna('Unknown')"
   ]
  },
  {
   "cell_type": "code",
   "execution_count": null,
   "id": "d2ea2812",
   "metadata": {},
   "outputs": [
    {
     "name": "stdout",
     "output_type": "stream",
     "text": [
      "0    [Adventure, Animation, Comedy]\n",
      "1       [Action, Adventure, Sci-Fi]\n",
      "2    [Adventure, Animation, Comedy]\n",
      "3       [Adventure, Drama, Fantasy]\n",
      "4       [Action, Adventure, Sci-Fi]\n",
      "Name: genres, dtype: object\n",
      "count    1174.000000\n",
      "mean        2.533220\n",
      "std         0.694765\n",
      "min         1.000000\n",
      "25%         2.000000\n",
      "50%         3.000000\n",
      "75%         3.000000\n",
      "max         3.000000\n",
      "Name: genres, dtype: float64\n"
     ]
    }
   ],
   "source": [
    "#split the genres\n",
    "full_df['genres'] = full_df['genres'].fillna('').str.split(',')\n",
    "print(full_df['genres'].head())\n",
    "print(full_df['genres'].apply(len).describe())"
   ]
  },
  {
   "cell_type": "code",
   "execution_count": 116,
   "id": "22252240",
   "metadata": {},
   "outputs": [
    {
     "name": "stdout",
     "output_type": "stream",
     "text": [
      "Empty DataFrame\n",
      "Columns: [year, runtime_minutes, genres, averagerating, release_date, production_budget, domestic_gross_y, worldwide_gross, ROI, primary_genre, release_month, release_quarter, profit]\n",
      "Index: []\n"
     ]
    }
   ],
   "source": [
    "#check for empty lists before exploding\n",
    "empty_lists = full_df[full_df['genres'].apply(len) == 0]\n",
    "print(empty_lists)"
   ]
  },
  {
   "cell_type": "code",
   "execution_count": 117,
   "id": "d4e6e156",
   "metadata": {},
   "outputs": [
    {
     "name": "stdout",
     "output_type": "stream",
     "text": [
      "0\n",
      "['Adventure' 'Animation' 'Comedy' 'Action' 'Sci-Fi' 'Drama' 'Fantasy'\n",
      " 'Family' 'Thriller' 'Romance' 'Horror' 'Mystery' 'Western' 'Biography'\n",
      " 'Crime' 'Documentary' 'Sport' 'War' 'Music' 'Musical' 'History' 'News']\n"
     ]
    }
   ],
   "source": [
    "#explode the genres\n",
    "full_df_exploded = full_df.explode('genres')\n",
    "print(full_df_exploded['genres'].isna().sum())\n",
    "print(full_df_exploded['genres'].unique())"
   ]
  },
  {
   "cell_type": "code",
   "execution_count": 118,
   "id": "ca2e99be",
   "metadata": {},
   "outputs": [
    {
     "name": "stdout",
     "output_type": "stream",
     "text": [
      "                  mean    median  count\n",
      "genres                                 \n",
      "Horror       13.229796  3.214558    127\n",
      "Mystery      11.644514  2.808061    104\n",
      "Thriller      7.524239  1.814909    206\n",
      "Sport         6.707148  1.515813     23\n",
      "Music         3.907913  2.225932     32\n",
      "Romance       3.713154  1.777525    142\n",
      "Documentary   3.420519  1.725037     33\n",
      "Biography     3.138321  1.473796    102\n",
      "Sci-Fi        3.116370  2.114412    104\n",
      "Drama         3.090778  1.384934    547\n",
      "Animation     3.001201  2.168614     89\n",
      "Comedy        2.830531  1.739016    400\n",
      "Fantasy       2.630890  1.278165     97\n",
      "Adventure     2.306628  1.779089    298\n",
      "Musical       2.191186  2.124787      4\n",
      "Action        2.130324  1.358951    363\n",
      "Family        2.121443  1.347904     71\n",
      "History       1.967289  1.240222     35\n",
      "Crime         1.527635  1.117482    182\n",
      "Western       1.386197  0.407825      7\n",
      "War           1.364284  1.240222      7\n",
      "News          0.805509  0.805509      1\n"
     ]
    }
   ],
   "source": [
    "#aggregate profit by genre\n",
    "genre_profit = full_df_exploded.groupby('genres')['ROI'].agg(['mean', 'median', 'count']).sort_values(by='mean', ascending=False)\n",
    "print(genre_profit)"
   ]
  },
  {
   "cell_type": "markdown",
   "id": "cbd849fe",
   "metadata": {},
   "source": [
    "#### c) Visualisations"
   ]
  },
  {
   "cell_type": "markdown",
   "id": "5607f2fa",
   "metadata": {},
   "source": [
    "#### c.1) Bar chart of Median Profit by Genre (Less likely to be Affected by Outliers)"
   ]
  },
  {
   "cell_type": "code",
   "execution_count": 127,
   "id": "3baafdce",
   "metadata": {},
   "outputs": [
    {
     "data": {
      "image/png": "[encoded data removed]",
      "text/plain": [
       "<Figure size 1200x600 with 1 Axes>"
      ]
     },
     "metadata": {},
     "output_type": "display_data"
    }
   ],
   "source": [
    "plt.figure(figsize=(12, 6))\n",
    "genre_profit['median'].sort_values(ascending=False).plot(kind='bar', color='green')\n",
    "plt.title('Median Profit by Genre', size = 20)\n",
    "plt.ylabel('Median Profit ($)', size = 15)\n",
    "plt.xlabel('Genre', size = 15)\n",
    "plt.xticks(rotation=45)\n",
    "plt.tight_layout()\n",
    "plt.grid(True)\n",
    "plt.show()"
   ]
  },
  {
   "cell_type": "markdown",
   "id": "78a87cc0",
   "metadata": {},
   "source": [
    "Median Bar Plot Interpretation:\n",
    "* Horror is the most profitable genre.\n",
    "* Westerns are the least profitable genre."
   ]
  },
  {
   "cell_type": "markdown",
   "id": "8b87143b",
   "metadata": {},
   "source": [
    "#### c.2) Most Profitable Genres per Year"
   ]
  },
  {
   "cell_type": "code",
   "execution_count": 130,
   "id": "d9f026f2",
   "metadata": {},
   "outputs": [
    {
     "data": {
      "image/png": "[encoded data removed]",
      "text/plain": [
       "<Figure size 1200x600 with 1 Axes>"
      ]
     },
     "metadata": {},
     "output_type": "display_data"
    }
   ],
   "source": [
    "#compute most profitable genre per year\n",
    "top_genres_per_year = full_df_exploded.groupby(['year', 'genres'])['profit'].mean().reset_index()\n",
    "top_by_year = top_genres_per_year.loc[top_genres_per_year.groupby('year')['profit'].idxmax()]\n",
    "\n",
    "# Sort by year to align bars and labels correctly\n",
    "top_by_year = top_by_year.sort_values('year')\n",
    "\n",
    "plt.figure(figsize=(12, 6))\n",
    "ax = sns.barplot(data=top_by_year, x='year', y='profit', hue='genres', dodge=False)\n",
    "# Rotate labels and ensure alignment\n",
    "ax.set_xticks(range(len(top_by_year))) \n",
    "ax.set_xticklabels(top_by_year['year'].astype(str)) \n",
    "\n",
    "plt.title('Top-Profiting Genre Each Year')\n",
    "plt.ylabel('Average Profit')\n",
    "plt.xlabel('Year')\n",
    "plt.tight_layout()\n",
    "plt.show()"
   ]
  },
  {
   "cell_type": "markdown",
   "id": "df62f8bd",
   "metadata": {},
   "source": [
    "**Barplot interpretation:**  \n",
    "* Animation has consistently been profitable in more years i.e. 2010, 2011, 2012, 2015 and 2016\n",
    "* The Sport genre has the highest average profit, it only occurs in 2013, making it inconsistent in yielding stable returns over a long time for a new studio."
   ]
  },
  {
   "cell_type": "markdown",
   "id": "701c486a",
   "metadata": {},
   "source": [
    "#### c.3) Analysis of Genre Profit Margins  \n",
    "\n",
    "Profit margins show how much profit was earned per dollar spent. \n",
    "\n",
    "Its calculated by: Profit Margin = Profit/Production Budget\n",
    "\n",
    "A barplot would yield a clear ranking of which genre delivers most bang for the buck."
   ]
  },
  {
   "cell_type": "code",
   "execution_count": 123,
   "id": "ecfbc4fd",
   "metadata": {},
   "outputs": [
    {
     "data": {
      "image/png": "[encoded data removed]",
      "text/plain": [
       "<Figure size 1200x600 with 1 Axes>"
      ]
     },
     "metadata": {},
     "output_type": "display_data"
    }
   ],
   "source": [
    "#calculating profit margin\n",
    "full_df_exploded['profit_margin'] = full_df_exploded['profit'] / full_df_exploded['production_budget']\n",
    "\n",
    "#Barplot of Average Margin by Genre\n",
    "genre_margins = full_df_exploded.groupby('genres')['profit_margin'].mean().sort_values(ascending=False)\n",
    "\n",
    "plt.figure(figsize=(12, 6))\n",
    "genre_margins.plot(kind='bar', color='green')\n",
    "plt.ylabel('Average Profit Margin')\n",
    "plt.title('Average Profit Margin by Genre')\n",
    "plt.xticks(rotation=45)\n",
    "plt.tight_layout()\n",
    "plt.show()"
   ]
  },
  {
   "cell_type": "markdown",
   "id": "b284205a",
   "metadata": {},
   "source": [
    "**Interpretation:**\n",
    "* Horror, Mystery and Thriller genres have high average profit margins. This means they are the most financilly efficient and generate big profits with relatively low budgets.\n",
    "* Action, Drama or Sci-Fi return some profit but less efficiently. While they may have high profits, the margins are thin on account of high budgets.\n",
    "* Western, War and News genres have low average profit margins\n",
    "\n",
    "**Implication:**\n",
    "* To maximize returns per dollar spent, the movie studio should focus on Horror, Mystery, and Thriller genres.\n",
    "* However, if the concern is with blockbuster profit totals, invest in lower-margin but high-revenue genres like Action and Adventure."
   ]
  },
  {
   "cell_type": "markdown",
   "id": "775a7a7e",
   "metadata": {},
   "source": [
    "### 3.4. Runtime, Ratings, and Revenue: Is there a correlation between rating or length and revenue?"
   ]
  }
 ],
 "metadata": {
  "kernelspec": {
   "display_name": "Python 3",
   "language": "python",
   "name": "python3"
  },
  "language_info": {
   "codemirror_mode": {
    "name": "ipython",
    "version": 3
   },
   "file_extension": ".py",
   "mimetype": "text/x-python",
   "name": "python",
   "nbconvert_exporter": "python",
   "pygments_lexer": "ipython3",
   "version": "3.13.3"
  }
 },
 "nbformat": 4,
 "nbformat_minor": 5
}
